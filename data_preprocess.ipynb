{
 "cells": [
  {
   "cell_type": "code",
   "execution_count": 2,
   "id": "05258b5b",
   "metadata": {},
   "outputs": [],
   "source": [
    "import pandas as pd\n",
    "import string\n",
    "from nltk.corpus import stopwords\n",
    "from nltk import word_tokenize\n",
    "from nltk.stem import WordNetLemmatizer\n",
    "from sklearn.feature_extraction.text import TfidfVectorizer\n",
    "import streamlit as st"
   ]
  },
  {
   "cell_type": "markdown",
   "id": "e24c79c8",
   "metadata": {},
   "source": [
    "# Download the raw data from Yelp"
   ]
  },
  {
   "cell_type": "markdown",
   "id": "89de741a",
   "metadata": {},
   "source": [
    "URL: https://www.yelp.com/dataset/download\n",
    "        \n",
    "The total file size is 4GB. "
   ]
  },
  {
   "cell_type": "markdown",
   "id": "b234fe11",
   "metadata": {},
   "source": [
    "# Import raw data (json) and convert into CSV"
   ]
  },
  {
   "cell_type": "markdown",
   "id": "f74fa0bd",
   "metadata": {},
   "source": [
    "It takes 5 minutes to run"
   ]
  },
  {
   "cell_type": "code",
   "execution_count": 10,
   "id": "b344f52e",
   "metadata": {},
   "outputs": [],
   "source": [
    "import json\n",
    "\n",
    "def conv_json_to_csv(inFile, outFile):\n",
    "    with open(inFile) as f:\n",
    "        data = []\n",
    "        for line in f:\n",
    "            if line.strip():  # Check if the line is not empty\n",
    "                obj = json.loads(line)\n",
    "                data.append(obj)\n",
    "\n",
    "    # Open the CSV file in write mode\n",
    "    with open(outFile, 'w', newline='') as file:\n",
    "        fieldnames = data[0].keys()\n",
    "        writer = csv.DictWriter(file, fieldnames=fieldnames)\n",
    "\n",
    "        # Write the header row\n",
    "        writer.writeheader()\n",
    "\n",
    "        # Write the data rows\n",
    "        writer.writerows(data)\n",
    "        \n",
    "conv_json_to_csv('raw_data/yelp_academic_dataset_review.json', 'notebooks/csv/yelp_review.csv')\n",
    "conv_json_to_csv('raw_data/yelp_academic_dataset_business.json', 'notebooks/csv/yelp_business.csv')"
   ]
  },
  {
   "cell_type": "markdown",
   "id": "dce437b9",
   "metadata": {},
   "source": [
    "# Create the dataframes (Business / Review / Rene)"
   ]
  },
  {
   "cell_type": "code",
   "execution_count": 111,
   "id": "dcd25899",
   "metadata": {},
   "outputs": [],
   "source": [
    "df_business = pd.read_csv('notebooks/csv/yelp_business.csv')\n"
   ]
  },
  {
   "cell_type": "code",
   "execution_count": 112,
   "id": "eb734e0f",
   "metadata": {},
   "outputs": [],
   "source": [
    "# CSV file from Sophia\n",
    "df_review = pd.read_csv('notebooks/csv/new_orleans_reviews.csv')"
   ]
  },
  {
   "cell_type": "code",
   "execution_count": 113,
   "id": "d1df949e",
   "metadata": {},
   "outputs": [],
   "source": [
    "# CSV files from Rene\n",
    "df_rene = pd.read_csv('notebooks/csv/avg_stars10m_radius.csv')"
   ]
  },
  {
   "cell_type": "code",
   "execution_count": 134,
   "id": "e545190f",
   "metadata": {},
   "outputs": [],
   "source": [
    "# CSV files from Sandun\n",
    "df_praise_top10 = pd.read_csv('notebooks/csv/res_top5_compliments.csv')\n",
    "df_complaint_top10 = pd.read_csv('notebooks/csv/res_top5_complaints.csv')"
   ]
  },
  {
   "cell_type": "code",
   "execution_count": 117,
   "id": "e2010b7d",
   "metadata": {},
   "outputs": [
    {
     "data": {
      "text/html": [
       "<div>\n",
       "<style scoped>\n",
       "    .dataframe tbody tr th:only-of-type {\n",
       "        vertical-align: middle;\n",
       "    }\n",
       "\n",
       "    .dataframe tbody tr th {\n",
       "        vertical-align: top;\n",
       "    }\n",
       "\n",
       "    .dataframe thead th {\n",
       "        text-align: right;\n",
       "    }\n",
       "</style>\n",
       "<table border=\"1\" class=\"dataframe\">\n",
       "  <thead>\n",
       "    <tr style=\"text-align: right;\">\n",
       "      <th></th>\n",
       "      <th>Unnamed: 0</th>\n",
       "      <th>normalized_score</th>\n",
       "      <th>business_id</th>\n",
       "    </tr>\n",
       "  </thead>\n",
       "  <tbody>\n",
       "    <tr>\n",
       "      <th>0</th>\n",
       "      <td>poor</td>\n",
       "      <td>0.519310</td>\n",
       "      <td>GBTPC53ZrG1ZBY3DT8Mbcw</td>\n",
       "    </tr>\n",
       "    <tr>\n",
       "      <th>1</th>\n",
       "      <td>customers</td>\n",
       "      <td>0.377411</td>\n",
       "      <td>GBTPC53ZrG1ZBY3DT8Mbcw</td>\n",
       "    </tr>\n",
       "  </tbody>\n",
       "</table>\n",
       "</div>"
      ],
      "text/plain": [
       "  Unnamed: 0  normalized_score             business_id\n",
       "0       poor          0.519310  GBTPC53ZrG1ZBY3DT8Mbcw\n",
       "1  customers          0.377411  GBTPC53ZrG1ZBY3DT8Mbcw"
      ]
     },
     "execution_count": 117,
     "metadata": {},
     "output_type": "execute_result"
    }
   ],
   "source": [
    "df_complaint_top10.head(2)"
   ]
  },
  {
   "cell_type": "markdown",
   "id": "2f740c5e",
   "metadata": {},
   "source": [
    "# Convert the Data Type"
   ]
  },
  {
   "cell_type": "markdown",
   "id": "806b5113",
   "metadata": {},
   "source": [
    "## Date to be Datetime"
   ]
  },
  {
   "cell_type": "code",
   "execution_count": 63,
   "id": "3205e814",
   "metadata": {},
   "outputs": [
    {
     "name": "stdout",
     "output_type": "stream",
     "text": [
      "<class 'pandas.core.frame.DataFrame'>\n",
      "RangeIndex: 188317 entries, 0 to 188316\n",
      "Data columns (total 9 columns):\n",
      " #   Column       Non-Null Count   Dtype  \n",
      "---  ------       --------------   -----  \n",
      " 0   review_id    188317 non-null  object \n",
      " 1   user_id      188317 non-null  object \n",
      " 2   business_id  188317 non-null  object \n",
      " 3   stars        188317 non-null  float64\n",
      " 4   useful       188317 non-null  int64  \n",
      " 5   funny        188317 non-null  int64  \n",
      " 6   cool         188317 non-null  int64  \n",
      " 7   text         188317 non-null  object \n",
      " 8   date         188317 non-null  object \n",
      "dtypes: float64(1), int64(3), object(5)\n",
      "memory usage: 12.9+ MB\n"
     ]
    }
   ],
   "source": [
    "df_review.info()"
   ]
  },
  {
   "cell_type": "code",
   "execution_count": 64,
   "id": "07a899f3",
   "metadata": {},
   "outputs": [],
   "source": [
    "df_review['date'] = pd.to_datetime(df_review['date'], format='%Y-%m-%d')\n",
    "df_review['date'] = df_review['date'].dt.strftime('%Y-%m-%d')"
   ]
  },
  {
   "cell_type": "code",
   "execution_count": 65,
   "id": "606908f3",
   "metadata": {},
   "outputs": [
    {
     "name": "stdout",
     "output_type": "stream",
     "text": [
      "<class 'pandas.core.frame.DataFrame'>\n",
      "RangeIndex: 188317 entries, 0 to 188316\n",
      "Data columns (total 9 columns):\n",
      " #   Column       Non-Null Count   Dtype  \n",
      "---  ------       --------------   -----  \n",
      " 0   review_id    188317 non-null  object \n",
      " 1   user_id      188317 non-null  object \n",
      " 2   business_id  188317 non-null  object \n",
      " 3   stars        188317 non-null  float64\n",
      " 4   useful       188317 non-null  int64  \n",
      " 5   funny        188317 non-null  int64  \n",
      " 6   cool         188317 non-null  int64  \n",
      " 7   text         188317 non-null  object \n",
      " 8   date         188317 non-null  object \n",
      "dtypes: float64(1), int64(3), object(5)\n",
      "memory usage: 12.9+ MB\n"
     ]
    }
   ],
   "source": [
    "df_review.info()"
   ]
  },
  {
   "cell_type": "code",
   "execution_count": 66,
   "id": "ab231f08",
   "metadata": {},
   "outputs": [
    {
     "data": {
      "text/html": [
       "<div>\n",
       "<style scoped>\n",
       "    .dataframe tbody tr th:only-of-type {\n",
       "        vertical-align: middle;\n",
       "    }\n",
       "\n",
       "    .dataframe tbody tr th {\n",
       "        vertical-align: top;\n",
       "    }\n",
       "\n",
       "    .dataframe thead th {\n",
       "        text-align: right;\n",
       "    }\n",
       "</style>\n",
       "<table border=\"1\" class=\"dataframe\">\n",
       "  <thead>\n",
       "    <tr style=\"text-align: right;\">\n",
       "      <th></th>\n",
       "      <th>review_id</th>\n",
       "      <th>user_id</th>\n",
       "      <th>business_id</th>\n",
       "      <th>stars</th>\n",
       "      <th>useful</th>\n",
       "      <th>funny</th>\n",
       "      <th>cool</th>\n",
       "      <th>text</th>\n",
       "      <th>date</th>\n",
       "    </tr>\n",
       "  </thead>\n",
       "  <tbody>\n",
       "    <tr>\n",
       "      <th>0</th>\n",
       "      <td>z0osLHDvXvzfm57D4DmD2Q</td>\n",
       "      <td>xVKE_HJ2pwUtTdLbL3pnCg</td>\n",
       "      <td>S2Ho8yLxhKAa26pBAm6rxA</td>\n",
       "      <td>3.0</td>\n",
       "      <td>0</td>\n",
       "      <td>0</td>\n",
       "      <td>0</td>\n",
       "      <td>Service was crappy, and food was mediocre.  I ...</td>\n",
       "      <td>2016-11-22</td>\n",
       "    </tr>\n",
       "    <tr>\n",
       "      <th>1</th>\n",
       "      <td>tXHWJWnTdrraHGUqaPWj3g</td>\n",
       "      <td>zKAHSNzqvwsyoFCw3QpafA</td>\n",
       "      <td>S2Ho8yLxhKAa26pBAm6rxA</td>\n",
       "      <td>4.0</td>\n",
       "      <td>0</td>\n",
       "      <td>0</td>\n",
       "      <td>0</td>\n",
       "      <td>Enjoyed my fish out at a sidewalk table.  A bi...</td>\n",
       "      <td>2018-05-19</td>\n",
       "    </tr>\n",
       "    <tr>\n",
       "      <th>2</th>\n",
       "      <td>lrZiB0XfNZjk8zfYDx_TPA</td>\n",
       "      <td>29UB_wrnUIdsxV2ZmrlZSg</td>\n",
       "      <td>S2Ho8yLxhKAa26pBAm6rxA</td>\n",
       "      <td>3.0</td>\n",
       "      <td>2</td>\n",
       "      <td>1</td>\n",
       "      <td>1</td>\n",
       "      <td>I was happy his was my first experience with N...</td>\n",
       "      <td>2016-02-11</td>\n",
       "    </tr>\n",
       "    <tr>\n",
       "      <th>3</th>\n",
       "      <td>_ZdwS4iEzJIVpy7-DjkEpA</td>\n",
       "      <td>IQU18Ke0zK8o4tPDirR07w</td>\n",
       "      <td>S2Ho8yLxhKAa26pBAm6rxA</td>\n",
       "      <td>5.0</td>\n",
       "      <td>0</td>\n",
       "      <td>0</td>\n",
       "      <td>0</td>\n",
       "      <td>Had breakfast with the family after a quick st...</td>\n",
       "      <td>2018-06-19</td>\n",
       "    </tr>\n",
       "    <tr>\n",
       "      <th>4</th>\n",
       "      <td>6_3e54OjnFnTxSgKrUZ21g</td>\n",
       "      <td>DbNKK25oOzfHxyfBHlOaDg</td>\n",
       "      <td>S2Ho8yLxhKAa26pBAm6rxA</td>\n",
       "      <td>5.0</td>\n",
       "      <td>2</td>\n",
       "      <td>0</td>\n",
       "      <td>0</td>\n",
       "      <td>The one thing I really wanted for breakfast wh...</td>\n",
       "      <td>2018-04-15</td>\n",
       "    </tr>\n",
       "  </tbody>\n",
       "</table>\n",
       "</div>"
      ],
      "text/plain": [
       "                review_id                 user_id             business_id  \\\n",
       "0  z0osLHDvXvzfm57D4DmD2Q  xVKE_HJ2pwUtTdLbL3pnCg  S2Ho8yLxhKAa26pBAm6rxA   \n",
       "1  tXHWJWnTdrraHGUqaPWj3g  zKAHSNzqvwsyoFCw3QpafA  S2Ho8yLxhKAa26pBAm6rxA   \n",
       "2  lrZiB0XfNZjk8zfYDx_TPA  29UB_wrnUIdsxV2ZmrlZSg  S2Ho8yLxhKAa26pBAm6rxA   \n",
       "3  _ZdwS4iEzJIVpy7-DjkEpA  IQU18Ke0zK8o4tPDirR07w  S2Ho8yLxhKAa26pBAm6rxA   \n",
       "4  6_3e54OjnFnTxSgKrUZ21g  DbNKK25oOzfHxyfBHlOaDg  S2Ho8yLxhKAa26pBAm6rxA   \n",
       "\n",
       "   stars  useful  funny  cool  \\\n",
       "0    3.0       0      0     0   \n",
       "1    4.0       0      0     0   \n",
       "2    3.0       2      1     1   \n",
       "3    5.0       0      0     0   \n",
       "4    5.0       2      0     0   \n",
       "\n",
       "                                                text        date  \n",
       "0  Service was crappy, and food was mediocre.  I ...  2016-11-22  \n",
       "1  Enjoyed my fish out at a sidewalk table.  A bi...  2018-05-19  \n",
       "2  I was happy his was my first experience with N...  2016-02-11  \n",
       "3  Had breakfast with the family after a quick st...  2018-06-19  \n",
       "4  The one thing I really wanted for breakfast wh...  2018-04-15  "
      ]
     },
     "execution_count": 66,
     "metadata": {},
     "output_type": "execute_result"
    }
   ],
   "source": [
    "df_review.head()"
   ]
  },
  {
   "cell_type": "markdown",
   "id": "65a4dcfd",
   "metadata": {},
   "source": [
    "# Combine the 4 Tables into 1"
   ]
  },
  {
   "cell_type": "markdown",
   "id": "f2917e89",
   "metadata": {},
   "source": [
    "## Combine df_business & df_rene"
   ]
  },
  {
   "cell_type": "code",
   "execution_count": 67,
   "id": "462e9da1",
   "metadata": {},
   "outputs": [
    {
     "data": {
      "text/html": [
       "<div>\n",
       "<style scoped>\n",
       "    .dataframe tbody tr th:only-of-type {\n",
       "        vertical-align: middle;\n",
       "    }\n",
       "\n",
       "    .dataframe tbody tr th {\n",
       "        vertical-align: top;\n",
       "    }\n",
       "\n",
       "    .dataframe thead th {\n",
       "        text-align: right;\n",
       "    }\n",
       "</style>\n",
       "<table border=\"1\" class=\"dataframe\">\n",
       "  <thead>\n",
       "    <tr style=\"text-align: right;\">\n",
       "      <th></th>\n",
       "      <th>business_id</th>\n",
       "      <th>stars</th>\n",
       "      <th>name</th>\n",
       "      <th>review_count</th>\n",
       "      <th>categories</th>\n",
       "    </tr>\n",
       "  </thead>\n",
       "  <tbody>\n",
       "    <tr>\n",
       "      <th>0</th>\n",
       "      <td>Pns2l4eNsfO8kk83dixA6A</td>\n",
       "      <td>5.0</td>\n",
       "      <td>Abby Rappoport, LAC, CMQ</td>\n",
       "      <td>7</td>\n",
       "      <td>Doctors, Traditional Chinese Medicine, Naturop...</td>\n",
       "    </tr>\n",
       "    <tr>\n",
       "      <th>1</th>\n",
       "      <td>mpf3x-BjTdTEA3yCZrAYPw</td>\n",
       "      <td>3.0</td>\n",
       "      <td>The UPS Store</td>\n",
       "      <td>15</td>\n",
       "      <td>Shipping Centers, Local Services, Notaries, Ma...</td>\n",
       "    </tr>\n",
       "  </tbody>\n",
       "</table>\n",
       "</div>"
      ],
      "text/plain": [
       "              business_id  stars                      name  review_count  \\\n",
       "0  Pns2l4eNsfO8kk83dixA6A    5.0  Abby Rappoport, LAC, CMQ             7   \n",
       "1  mpf3x-BjTdTEA3yCZrAYPw    3.0             The UPS Store            15   \n",
       "\n",
       "                                          categories  \n",
       "0  Doctors, Traditional Chinese Medicine, Naturop...  \n",
       "1  Shipping Centers, Local Services, Notaries, Ma...  "
      ]
     },
     "execution_count": 67,
     "metadata": {},
     "output_type": "execute_result"
    }
   ],
   "source": [
    "df_business = df_business[['business_id', 'stars','name','review_count','categories']]\n",
    "df_business.head(2)"
   ]
  },
  {
   "cell_type": "code",
   "execution_count": 68,
   "id": "8e4ee675",
   "metadata": {},
   "outputs": [
    {
     "data": {
      "text/html": [
       "<div>\n",
       "<style scoped>\n",
       "    .dataframe tbody tr th:only-of-type {\n",
       "        vertical-align: middle;\n",
       "    }\n",
       "\n",
       "    .dataframe tbody tr th {\n",
       "        vertical-align: top;\n",
       "    }\n",
       "\n",
       "    .dataframe thead th {\n",
       "        text-align: right;\n",
       "    }\n",
       "</style>\n",
       "<table border=\"1\" class=\"dataframe\">\n",
       "  <thead>\n",
       "    <tr style=\"text-align: right;\">\n",
       "      <th></th>\n",
       "      <th>business_id</th>\n",
       "      <th>avg_stars10m_radius</th>\n",
       "    </tr>\n",
       "  </thead>\n",
       "  <tbody>\n",
       "    <tr>\n",
       "      <th>0</th>\n",
       "      <td>-0TffRSXXIlBYVbb5AwfTg</td>\n",
       "      <td>4.016129</td>\n",
       "    </tr>\n",
       "    <tr>\n",
       "      <th>1</th>\n",
       "      <td>-FM4CxOg4XXmX_Ebky_SiQ</td>\n",
       "      <td>4.192308</td>\n",
       "    </tr>\n",
       "  </tbody>\n",
       "</table>\n",
       "</div>"
      ],
      "text/plain": [
       "              business_id  avg_stars10m_radius\n",
       "0  -0TffRSXXIlBYVbb5AwfTg             4.016129\n",
       "1  -FM4CxOg4XXmX_Ebky_SiQ             4.192308"
      ]
     },
     "execution_count": 68,
     "metadata": {},
     "output_type": "execute_result"
    }
   ],
   "source": [
    "df_rene = df_rene[[\"business_id\",\"avg_stars10m_radius\"]]\n",
    "df_rene.head(2)"
   ]
  },
  {
   "cell_type": "code",
   "execution_count": 69,
   "id": "6336f3d1",
   "metadata": {},
   "outputs": [
    {
     "data": {
      "text/html": [
       "<div>\n",
       "<style scoped>\n",
       "    .dataframe tbody tr th:only-of-type {\n",
       "        vertical-align: middle;\n",
       "    }\n",
       "\n",
       "    .dataframe tbody tr th {\n",
       "        vertical-align: top;\n",
       "    }\n",
       "\n",
       "    .dataframe thead th {\n",
       "        text-align: right;\n",
       "    }\n",
       "</style>\n",
       "<table border=\"1\" class=\"dataframe\">\n",
       "  <thead>\n",
       "    <tr style=\"text-align: right;\">\n",
       "      <th></th>\n",
       "      <th>business_id</th>\n",
       "      <th>stars</th>\n",
       "      <th>name</th>\n",
       "      <th>review_count</th>\n",
       "      <th>categories</th>\n",
       "      <th>avg_stars10m_radius</th>\n",
       "    </tr>\n",
       "  </thead>\n",
       "  <tbody>\n",
       "    <tr>\n",
       "      <th>0</th>\n",
       "      <td>SZU9c8V2GuREDN5KgyHFJw</td>\n",
       "      <td>4.0</td>\n",
       "      <td>Santa Barbara Shellfish Company</td>\n",
       "      <td>2404</td>\n",
       "      <td>Live/Raw Food, Restaurants, Seafood, Beer Bar,...</td>\n",
       "      <td>4.192308</td>\n",
       "    </tr>\n",
       "    <tr>\n",
       "      <th>1</th>\n",
       "      <td>ORL4JE6tz3rJxVqkdKfegA</td>\n",
       "      <td>3.0</td>\n",
       "      <td>Gaylord Opryland Resort &amp; Convention Center</td>\n",
       "      <td>1639</td>\n",
       "      <td>Venues &amp; Event Spaces, Performing Arts, Arts &amp;...</td>\n",
       "      <td>4.166667</td>\n",
       "    </tr>\n",
       "  </tbody>\n",
       "</table>\n",
       "</div>"
      ],
      "text/plain": [
       "              business_id  stars                                         name  \\\n",
       "0  SZU9c8V2GuREDN5KgyHFJw    4.0              Santa Barbara Shellfish Company   \n",
       "1  ORL4JE6tz3rJxVqkdKfegA    3.0  Gaylord Opryland Resort & Convention Center   \n",
       "\n",
       "   review_count                                         categories  \\\n",
       "0          2404  Live/Raw Food, Restaurants, Seafood, Beer Bar,...   \n",
       "1          1639  Venues & Event Spaces, Performing Arts, Arts &...   \n",
       "\n",
       "   avg_stars10m_radius  \n",
       "0             4.192308  \n",
       "1             4.166667  "
      ]
     },
     "execution_count": 69,
     "metadata": {},
     "output_type": "execute_result"
    }
   ],
   "source": [
    "df_business = pd.merge(df_business, df_rene, on='business_id', how='inner')\n",
    "df_business.head(2)"
   ]
  },
  {
   "cell_type": "markdown",
   "id": "6d9f9d69",
   "metadata": {},
   "source": [
    "## Combine df_review & df_business"
   ]
  },
  {
   "cell_type": "code",
   "execution_count": 70,
   "id": "3d49fc09",
   "metadata": {},
   "outputs": [
    {
     "data": {
      "text/html": [
       "<div>\n",
       "<style scoped>\n",
       "    .dataframe tbody tr th:only-of-type {\n",
       "        vertical-align: middle;\n",
       "    }\n",
       "\n",
       "    .dataframe tbody tr th {\n",
       "        vertical-align: top;\n",
       "    }\n",
       "\n",
       "    .dataframe thead th {\n",
       "        text-align: right;\n",
       "    }\n",
       "</style>\n",
       "<table border=\"1\" class=\"dataframe\">\n",
       "  <thead>\n",
       "    <tr style=\"text-align: right;\">\n",
       "      <th></th>\n",
       "      <th>review_id</th>\n",
       "      <th>user_id</th>\n",
       "      <th>business_id</th>\n",
       "      <th>stars</th>\n",
       "      <th>useful</th>\n",
       "      <th>funny</th>\n",
       "      <th>cool</th>\n",
       "      <th>text</th>\n",
       "      <th>date</th>\n",
       "      <th>restaurant_avg_star</th>\n",
       "      <th>name</th>\n",
       "      <th>review_count</th>\n",
       "      <th>categories</th>\n",
       "      <th>avg_stars10m_radius</th>\n",
       "    </tr>\n",
       "  </thead>\n",
       "  <tbody>\n",
       "    <tr>\n",
       "      <th>0</th>\n",
       "      <td>z0osLHDvXvzfm57D4DmD2Q</td>\n",
       "      <td>xVKE_HJ2pwUtTdLbL3pnCg</td>\n",
       "      <td>S2Ho8yLxhKAa26pBAm6rxA</td>\n",
       "      <td>3.0</td>\n",
       "      <td>0</td>\n",
       "      <td>0</td>\n",
       "      <td>0</td>\n",
       "      <td>Service was crappy, and food was mediocre.  I ...</td>\n",
       "      <td>2016-11-22</td>\n",
       "      <td>4.0</td>\n",
       "      <td>Creole House Restaurant &amp; Oyster Bar</td>\n",
       "      <td>1594</td>\n",
       "      <td>Cajun/Creole, Seafood, Restaurants, Breakfast ...</td>\n",
       "      <td>4.05814</td>\n",
       "    </tr>\n",
       "    <tr>\n",
       "      <th>1</th>\n",
       "      <td>tXHWJWnTdrraHGUqaPWj3g</td>\n",
       "      <td>zKAHSNzqvwsyoFCw3QpafA</td>\n",
       "      <td>S2Ho8yLxhKAa26pBAm6rxA</td>\n",
       "      <td>4.0</td>\n",
       "      <td>0</td>\n",
       "      <td>0</td>\n",
       "      <td>0</td>\n",
       "      <td>Enjoyed my fish out at a sidewalk table.  A bi...</td>\n",
       "      <td>2018-05-19</td>\n",
       "      <td>4.0</td>\n",
       "      <td>Creole House Restaurant &amp; Oyster Bar</td>\n",
       "      <td>1594</td>\n",
       "      <td>Cajun/Creole, Seafood, Restaurants, Breakfast ...</td>\n",
       "      <td>4.05814</td>\n",
       "    </tr>\n",
       "  </tbody>\n",
       "</table>\n",
       "</div>"
      ],
      "text/plain": [
       "                review_id                 user_id             business_id  \\\n",
       "0  z0osLHDvXvzfm57D4DmD2Q  xVKE_HJ2pwUtTdLbL3pnCg  S2Ho8yLxhKAa26pBAm6rxA   \n",
       "1  tXHWJWnTdrraHGUqaPWj3g  zKAHSNzqvwsyoFCw3QpafA  S2Ho8yLxhKAa26pBAm6rxA   \n",
       "\n",
       "   stars  useful  funny  cool  \\\n",
       "0    3.0       0      0     0   \n",
       "1    4.0       0      0     0   \n",
       "\n",
       "                                                text        date  \\\n",
       "0  Service was crappy, and food was mediocre.  I ...  2016-11-22   \n",
       "1  Enjoyed my fish out at a sidewalk table.  A bi...  2018-05-19   \n",
       "\n",
       "   restaurant_avg_star                                  name  review_count  \\\n",
       "0                  4.0  Creole House Restaurant & Oyster Bar          1594   \n",
       "1                  4.0  Creole House Restaurant & Oyster Bar          1594   \n",
       "\n",
       "                                          categories  avg_stars10m_radius  \n",
       "0  Cajun/Creole, Seafood, Restaurants, Breakfast ...              4.05814  \n",
       "1  Cajun/Creole, Seafood, Restaurants, Breakfast ...              4.05814  "
      ]
     },
     "execution_count": 70,
     "metadata": {},
     "output_type": "execute_result"
    }
   ],
   "source": [
    "df_review = pd.merge(df_review, df_business, on='business_id', how='inner')\n",
    "df_review = df_review.rename(columns={'stars_x': 'stars'})\n",
    "df_review = df_review.rename(columns={'stars_y': 'restaurant_avg_star'})\n",
    "df_review.head(2)"
   ]
  },
  {
   "cell_type": "code",
   "execution_count": 71,
   "id": "5af71ec9",
   "metadata": {},
   "outputs": [
    {
     "data": {
      "text/html": [
       "<div>\n",
       "<style scoped>\n",
       "    .dataframe tbody tr th:only-of-type {\n",
       "        vertical-align: middle;\n",
       "    }\n",
       "\n",
       "    .dataframe tbody tr th {\n",
       "        vertical-align: top;\n",
       "    }\n",
       "\n",
       "    .dataframe thead th {\n",
       "        text-align: right;\n",
       "    }\n",
       "</style>\n",
       "<table border=\"1\" class=\"dataframe\">\n",
       "  <thead>\n",
       "    <tr style=\"text-align: right;\">\n",
       "      <th></th>\n",
       "      <th>review_id</th>\n",
       "      <th>business_id</th>\n",
       "      <th>stars</th>\n",
       "      <th>name</th>\n",
       "      <th>text</th>\n",
       "      <th>restaurant_avg_star</th>\n",
       "      <th>review_count</th>\n",
       "      <th>avg_stars10m_radius</th>\n",
       "      <th>date</th>\n",
       "    </tr>\n",
       "  </thead>\n",
       "  <tbody>\n",
       "    <tr>\n",
       "      <th>0</th>\n",
       "      <td>z0osLHDvXvzfm57D4DmD2Q</td>\n",
       "      <td>S2Ho8yLxhKAa26pBAm6rxA</td>\n",
       "      <td>3.0</td>\n",
       "      <td>Creole House Restaurant &amp; Oyster Bar</td>\n",
       "      <td>Service was crappy, and food was mediocre.  I ...</td>\n",
       "      <td>4.0</td>\n",
       "      <td>1594</td>\n",
       "      <td>4.05814</td>\n",
       "      <td>2016-11-22</td>\n",
       "    </tr>\n",
       "    <tr>\n",
       "      <th>1</th>\n",
       "      <td>tXHWJWnTdrraHGUqaPWj3g</td>\n",
       "      <td>S2Ho8yLxhKAa26pBAm6rxA</td>\n",
       "      <td>4.0</td>\n",
       "      <td>Creole House Restaurant &amp; Oyster Bar</td>\n",
       "      <td>Enjoyed my fish out at a sidewalk table.  A bi...</td>\n",
       "      <td>4.0</td>\n",
       "      <td>1594</td>\n",
       "      <td>4.05814</td>\n",
       "      <td>2018-05-19</td>\n",
       "    </tr>\n",
       "  </tbody>\n",
       "</table>\n",
       "</div>"
      ],
      "text/plain": [
       "                review_id             business_id  stars  \\\n",
       "0  z0osLHDvXvzfm57D4DmD2Q  S2Ho8yLxhKAa26pBAm6rxA    3.0   \n",
       "1  tXHWJWnTdrraHGUqaPWj3g  S2Ho8yLxhKAa26pBAm6rxA    4.0   \n",
       "\n",
       "                                   name  \\\n",
       "0  Creole House Restaurant & Oyster Bar   \n",
       "1  Creole House Restaurant & Oyster Bar   \n",
       "\n",
       "                                                text  restaurant_avg_star  \\\n",
       "0  Service was crappy, and food was mediocre.  I ...                  4.0   \n",
       "1  Enjoyed my fish out at a sidewalk table.  A bi...                  4.0   \n",
       "\n",
       "   review_count  avg_stars10m_radius        date  \n",
       "0          1594              4.05814  2016-11-22  \n",
       "1          1594              4.05814  2018-05-19  "
      ]
     },
     "execution_count": 71,
     "metadata": {},
     "output_type": "execute_result"
    }
   ],
   "source": [
    "df_review = df_review[['review_id','business_id', 'stars','name','text','restaurant_avg_star','review_count','avg_stars10m_radius','date']]\n",
    "df_review.head(2)"
   ]
  },
  {
   "cell_type": "markdown",
   "id": "0342b58e",
   "metadata": {},
   "source": [
    "## Combine df_review and df_praise"
   ]
  },
  {
   "cell_type": "code",
   "execution_count": 128,
   "id": "b7253b82",
   "metadata": {},
   "outputs": [
    {
     "data": {
      "text/html": [
       "<div>\n",
       "<style scoped>\n",
       "    .dataframe tbody tr th:only-of-type {\n",
       "        vertical-align: middle;\n",
       "    }\n",
       "\n",
       "    .dataframe tbody tr th {\n",
       "        vertical-align: top;\n",
       "    }\n",
       "\n",
       "    .dataframe thead th {\n",
       "        text-align: right;\n",
       "    }\n",
       "</style>\n",
       "<table border=\"1\" class=\"dataframe\">\n",
       "  <thead>\n",
       "    <tr style=\"text-align: right;\">\n",
       "      <th></th>\n",
       "      <th>Unnamed: 0</th>\n",
       "      <th>normalized_score</th>\n",
       "      <th>business_id</th>\n",
       "    </tr>\n",
       "  </thead>\n",
       "  <tbody>\n",
       "    <tr>\n",
       "      <th>0</th>\n",
       "      <td>best oyster</td>\n",
       "      <td>2.414669</td>\n",
       "      <td>GBTPC53ZrG1ZBY3DT8Mbcw</td>\n",
       "    </tr>\n",
       "    <tr>\n",
       "      <th>1</th>\n",
       "      <td>savannah</td>\n",
       "      <td>2.385819</td>\n",
       "      <td>GBTPC53ZrG1ZBY3DT8Mbcw</td>\n",
       "    </tr>\n",
       "  </tbody>\n",
       "</table>\n",
       "</div>"
      ],
      "text/plain": [
       "    Unnamed: 0  normalized_score             business_id\n",
       "0  best oyster          2.414669  GBTPC53ZrG1ZBY3DT8Mbcw\n",
       "1     savannah          2.385819  GBTPC53ZrG1ZBY3DT8Mbcw"
      ]
     },
     "execution_count": 128,
     "metadata": {},
     "output_type": "execute_result"
    }
   ],
   "source": [
    "df_praise_top10.head(2)"
   ]
  },
  {
   "cell_type": "code",
   "execution_count": 129,
   "id": "7fa8f67d",
   "metadata": {},
   "outputs": [
    {
     "data": {
      "text/html": [
       "<div>\n",
       "<style scoped>\n",
       "    .dataframe tbody tr th:only-of-type {\n",
       "        vertical-align: middle;\n",
       "    }\n",
       "\n",
       "    .dataframe tbody tr th {\n",
       "        vertical-align: top;\n",
       "    }\n",
       "\n",
       "    .dataframe thead th {\n",
       "        text-align: right;\n",
       "    }\n",
       "</style>\n",
       "<table border=\"1\" class=\"dataframe\">\n",
       "  <thead>\n",
       "    <tr style=\"text-align: right;\">\n",
       "      <th></th>\n",
       "      <th>Unnamed: 0</th>\n",
       "      <th>normalized_score</th>\n",
       "      <th>business_id</th>\n",
       "    </tr>\n",
       "  </thead>\n",
       "  <tbody>\n",
       "    <tr>\n",
       "      <th>0</th>\n",
       "      <td>poor</td>\n",
       "      <td>0.519310</td>\n",
       "      <td>GBTPC53ZrG1ZBY3DT8Mbcw</td>\n",
       "    </tr>\n",
       "    <tr>\n",
       "      <th>1</th>\n",
       "      <td>customers</td>\n",
       "      <td>0.377411</td>\n",
       "      <td>GBTPC53ZrG1ZBY3DT8Mbcw</td>\n",
       "    </tr>\n",
       "  </tbody>\n",
       "</table>\n",
       "</div>"
      ],
      "text/plain": [
       "  Unnamed: 0  normalized_score             business_id\n",
       "0       poor          0.519310  GBTPC53ZrG1ZBY3DT8Mbcw\n",
       "1  customers          0.377411  GBTPC53ZrG1ZBY3DT8Mbcw"
      ]
     },
     "execution_count": 129,
     "metadata": {},
     "output_type": "execute_result"
    }
   ],
   "source": [
    "df_complaint_top10.head(2)"
   ]
  },
  {
   "cell_type": "code",
   "execution_count": 135,
   "id": "7c99029c",
   "metadata": {},
   "outputs": [
    {
     "data": {
      "text/html": [
       "<div>\n",
       "<style scoped>\n",
       "    .dataframe tbody tr th:only-of-type {\n",
       "        vertical-align: middle;\n",
       "    }\n",
       "\n",
       "    .dataframe tbody tr th {\n",
       "        vertical-align: top;\n",
       "    }\n",
       "\n",
       "    .dataframe thead th {\n",
       "        text-align: right;\n",
       "    }\n",
       "</style>\n",
       "<table border=\"1\" class=\"dataframe\">\n",
       "  <thead>\n",
       "    <tr style=\"text-align: right;\">\n",
       "      <th></th>\n",
       "      <th>Unnamed: 0</th>\n",
       "      <th>normalized_score</th>\n",
       "      <th>business_id</th>\n",
       "      <th>name</th>\n",
       "    </tr>\n",
       "  </thead>\n",
       "  <tbody>\n",
       "    <tr>\n",
       "      <th>0</th>\n",
       "      <td>best oyster</td>\n",
       "      <td>2.414669</td>\n",
       "      <td>GBTPC53ZrG1ZBY3DT8Mbcw</td>\n",
       "      <td>Luke</td>\n",
       "    </tr>\n",
       "    <tr>\n",
       "      <th>1</th>\n",
       "      <td>savannah</td>\n",
       "      <td>2.385819</td>\n",
       "      <td>GBTPC53ZrG1ZBY3DT8Mbcw</td>\n",
       "      <td>Luke</td>\n",
       "    </tr>\n",
       "  </tbody>\n",
       "</table>\n",
       "</div>"
      ],
      "text/plain": [
       "    Unnamed: 0  normalized_score             business_id  name\n",
       "0  best oyster          2.414669  GBTPC53ZrG1ZBY3DT8Mbcw  Luke\n",
       "1     savannah          2.385819  GBTPC53ZrG1ZBY3DT8Mbcw  Luke"
      ]
     },
     "execution_count": 135,
     "metadata": {},
     "output_type": "execute_result"
    }
   ],
   "source": [
    "df_praise_top10 = pd.merge(df_praise_top10,df_business[['business_id', 'name']], on='business_id', how='inner')\n",
    "df_praise_top10.head(2)"
   ]
  },
  {
   "cell_type": "code",
   "execution_count": 136,
   "id": "951589c5",
   "metadata": {},
   "outputs": [
    {
     "data": {
      "text/html": [
       "<div>\n",
       "<style scoped>\n",
       "    .dataframe tbody tr th:only-of-type {\n",
       "        vertical-align: middle;\n",
       "    }\n",
       "\n",
       "    .dataframe tbody tr th {\n",
       "        vertical-align: top;\n",
       "    }\n",
       "\n",
       "    .dataframe thead th {\n",
       "        text-align: right;\n",
       "    }\n",
       "</style>\n",
       "<table border=\"1\" class=\"dataframe\">\n",
       "  <thead>\n",
       "    <tr style=\"text-align: right;\">\n",
       "      <th></th>\n",
       "      <th>Unnamed: 0</th>\n",
       "      <th>normalized_score</th>\n",
       "      <th>business_id</th>\n",
       "      <th>name</th>\n",
       "    </tr>\n",
       "  </thead>\n",
       "  <tbody>\n",
       "    <tr>\n",
       "      <th>0</th>\n",
       "      <td>poor</td>\n",
       "      <td>0.519310</td>\n",
       "      <td>GBTPC53ZrG1ZBY3DT8Mbcw</td>\n",
       "      <td>Luke</td>\n",
       "    </tr>\n",
       "    <tr>\n",
       "      <th>1</th>\n",
       "      <td>customers</td>\n",
       "      <td>0.377411</td>\n",
       "      <td>GBTPC53ZrG1ZBY3DT8Mbcw</td>\n",
       "      <td>Luke</td>\n",
       "    </tr>\n",
       "  </tbody>\n",
       "</table>\n",
       "</div>"
      ],
      "text/plain": [
       "  Unnamed: 0  normalized_score             business_id  name\n",
       "0       poor          0.519310  GBTPC53ZrG1ZBY3DT8Mbcw  Luke\n",
       "1  customers          0.377411  GBTPC53ZrG1ZBY3DT8Mbcw  Luke"
      ]
     },
     "execution_count": 136,
     "metadata": {},
     "output_type": "execute_result"
    }
   ],
   "source": [
    "df_complaint_top10 = pd.merge(df_complaint_top10,df_business[['business_id', 'name']], on='business_id', how='inner')\n",
    "df_complaint_top10.head(2)"
   ]
  },
  {
   "cell_type": "code",
   "execution_count": 137,
   "id": "e915ea70",
   "metadata": {},
   "outputs": [
    {
     "data": {
      "text/html": [
       "<div>\n",
       "<style scoped>\n",
       "    .dataframe tbody tr th:only-of-type {\n",
       "        vertical-align: middle;\n",
       "    }\n",
       "\n",
       "    .dataframe tbody tr th {\n",
       "        vertical-align: top;\n",
       "    }\n",
       "\n",
       "    .dataframe thead th {\n",
       "        text-align: right;\n",
       "    }\n",
       "</style>\n",
       "<table border=\"1\" class=\"dataframe\">\n",
       "  <thead>\n",
       "    <tr style=\"text-align: right;\">\n",
       "      <th></th>\n",
       "      <th>praise_text</th>\n",
       "      <th>praise_score</th>\n",
       "      <th>business_id</th>\n",
       "      <th>name</th>\n",
       "    </tr>\n",
       "  </thead>\n",
       "  <tbody>\n",
       "    <tr>\n",
       "      <th>0</th>\n",
       "      <td>best oyster</td>\n",
       "      <td>2.414669</td>\n",
       "      <td>GBTPC53ZrG1ZBY3DT8Mbcw</td>\n",
       "      <td>Luke</td>\n",
       "    </tr>\n",
       "    <tr>\n",
       "      <th>1</th>\n",
       "      <td>savannah</td>\n",
       "      <td>2.385819</td>\n",
       "      <td>GBTPC53ZrG1ZBY3DT8Mbcw</td>\n",
       "      <td>Luke</td>\n",
       "    </tr>\n",
       "    <tr>\n",
       "      <th>2</th>\n",
       "      <td>sprouts amazing</td>\n",
       "      <td>2.353093</td>\n",
       "      <td>GBTPC53ZrG1ZBY3DT8Mbcw</td>\n",
       "      <td>Luke</td>\n",
       "    </tr>\n",
       "    <tr>\n",
       "      <th>3</th>\n",
       "      <td>richie rich</td>\n",
       "      <td>2.313927</td>\n",
       "      <td>GBTPC53ZrG1ZBY3DT8Mbcw</td>\n",
       "      <td>Luke</td>\n",
       "    </tr>\n",
       "    <tr>\n",
       "      <th>4</th>\n",
       "      <td>tristan</td>\n",
       "      <td>2.294033</td>\n",
       "      <td>GBTPC53ZrG1ZBY3DT8Mbcw</td>\n",
       "      <td>Luke</td>\n",
       "    </tr>\n",
       "  </tbody>\n",
       "</table>\n",
       "</div>"
      ],
      "text/plain": [
       "       praise_text  praise_score             business_id  name\n",
       "0      best oyster      2.414669  GBTPC53ZrG1ZBY3DT8Mbcw  Luke\n",
       "1         savannah      2.385819  GBTPC53ZrG1ZBY3DT8Mbcw  Luke\n",
       "2  sprouts amazing      2.353093  GBTPC53ZrG1ZBY3DT8Mbcw  Luke\n",
       "3      richie rich      2.313927  GBTPC53ZrG1ZBY3DT8Mbcw  Luke\n",
       "4          tristan      2.294033  GBTPC53ZrG1ZBY3DT8Mbcw  Luke"
      ]
     },
     "execution_count": 137,
     "metadata": {},
     "output_type": "execute_result"
    }
   ],
   "source": [
    "df_praise_top10 = df_praise_top10.rename(columns={'Unnamed: 0': 'praise_text'})\n",
    "df_praise_top10 = df_praise_top10.rename(columns={'normalized_score': 'praise_score'})\n",
    "df_praise_top10.head(5)"
   ]
  },
  {
   "cell_type": "code",
   "execution_count": 138,
   "id": "affd59ff",
   "metadata": {},
   "outputs": [
    {
     "data": {
      "text/html": [
       "<div>\n",
       "<style scoped>\n",
       "    .dataframe tbody tr th:only-of-type {\n",
       "        vertical-align: middle;\n",
       "    }\n",
       "\n",
       "    .dataframe tbody tr th {\n",
       "        vertical-align: top;\n",
       "    }\n",
       "\n",
       "    .dataframe thead th {\n",
       "        text-align: right;\n",
       "    }\n",
       "</style>\n",
       "<table border=\"1\" class=\"dataframe\">\n",
       "  <thead>\n",
       "    <tr style=\"text-align: right;\">\n",
       "      <th></th>\n",
       "      <th>complaint_text</th>\n",
       "      <th>complaint_score</th>\n",
       "      <th>business_id</th>\n",
       "      <th>name</th>\n",
       "    </tr>\n",
       "  </thead>\n",
       "  <tbody>\n",
       "    <tr>\n",
       "      <th>0</th>\n",
       "      <td>poor</td>\n",
       "      <td>0.519310</td>\n",
       "      <td>GBTPC53ZrG1ZBY3DT8Mbcw</td>\n",
       "      <td>Luke</td>\n",
       "    </tr>\n",
       "    <tr>\n",
       "      <th>1</th>\n",
       "      <td>customers</td>\n",
       "      <td>0.377411</td>\n",
       "      <td>GBTPC53ZrG1ZBY3DT8Mbcw</td>\n",
       "      <td>Luke</td>\n",
       "    </tr>\n",
       "    <tr>\n",
       "      <th>2</th>\n",
       "      <td>terrible</td>\n",
       "      <td>0.295643</td>\n",
       "      <td>GBTPC53ZrG1ZBY3DT8Mbcw</td>\n",
       "      <td>Luke</td>\n",
       "    </tr>\n",
       "    <tr>\n",
       "      <th>3</th>\n",
       "      <td>second</td>\n",
       "      <td>0.218373</td>\n",
       "      <td>GBTPC53ZrG1ZBY3DT8Mbcw</td>\n",
       "      <td>Luke</td>\n",
       "    </tr>\n",
       "    <tr>\n",
       "      <th>4</th>\n",
       "      <td>open</td>\n",
       "      <td>0.201872</td>\n",
       "      <td>GBTPC53ZrG1ZBY3DT8Mbcw</td>\n",
       "      <td>Luke</td>\n",
       "    </tr>\n",
       "  </tbody>\n",
       "</table>\n",
       "</div>"
      ],
      "text/plain": [
       "  complaint_text  complaint_score             business_id  name\n",
       "0           poor         0.519310  GBTPC53ZrG1ZBY3DT8Mbcw  Luke\n",
       "1      customers         0.377411  GBTPC53ZrG1ZBY3DT8Mbcw  Luke\n",
       "2       terrible         0.295643  GBTPC53ZrG1ZBY3DT8Mbcw  Luke\n",
       "3         second         0.218373  GBTPC53ZrG1ZBY3DT8Mbcw  Luke\n",
       "4           open         0.201872  GBTPC53ZrG1ZBY3DT8Mbcw  Luke"
      ]
     },
     "execution_count": 138,
     "metadata": {},
     "output_type": "execute_result"
    }
   ],
   "source": [
    "df_complaint_top10 = df_complaint_top10.rename(columns={'Unnamed: 0': 'complaint_text'})\n",
    "df_complaint_top10 = df_complaint_top10.rename(columns={'normalized_score': 'complaint_score'})\n",
    "df_complaint_top10.head(5)"
   ]
  },
  {
   "cell_type": "code",
   "execution_count": null,
   "id": "569eb108",
   "metadata": {},
   "outputs": [],
   "source": []
  },
  {
   "cell_type": "code",
   "execution_count": null,
   "id": "1d34827b",
   "metadata": {},
   "outputs": [],
   "source": []
  },
  {
   "cell_type": "code",
   "execution_count": null,
   "id": "4017b655",
   "metadata": {},
   "outputs": [],
   "source": []
  },
  {
   "cell_type": "markdown",
   "id": "3679e68a",
   "metadata": {},
   "source": [
    "# Pick Top 10 Restaurants\n"
   ]
  },
  {
   "cell_type": "markdown",
   "id": "50a29ad6",
   "metadata": {},
   "source": [
    "## df_review_top10"
   ]
  },
  {
   "cell_type": "code",
   "execution_count": 75,
   "id": "34219dd3",
   "metadata": {},
   "outputs": [
    {
     "data": {
      "text/plain": [
       "(52968, 9)"
      ]
     },
     "execution_count": 75,
     "metadata": {},
     "output_type": "execute_result"
    }
   ],
   "source": [
    "review_counts = df_review['business_id'].value_counts().reset_index(name='review_count')\n",
    "review_counts.columns = ['business_id', 'review_count']\n",
    "\n",
    "top_10_business_ids = review_counts.head(10)['business_id']\n",
    "\n",
    "df_review_top10 = df_review[df_review['business_id'].isin(top_10_business_ids)]\n",
    "\n",
    "df_review_top10.shape"
   ]
  },
  {
   "cell_type": "code",
   "execution_count": 76,
   "id": "452a798c",
   "metadata": {},
   "outputs": [
    {
     "data": {
      "text/html": [
       "<div>\n",
       "<style scoped>\n",
       "    .dataframe tbody tr th:only-of-type {\n",
       "        vertical-align: middle;\n",
       "    }\n",
       "\n",
       "    .dataframe tbody tr th {\n",
       "        vertical-align: top;\n",
       "    }\n",
       "\n",
       "    .dataframe thead th {\n",
       "        text-align: right;\n",
       "    }\n",
       "</style>\n",
       "<table border=\"1\" class=\"dataframe\">\n",
       "  <thead>\n",
       "    <tr style=\"text-align: right;\">\n",
       "      <th></th>\n",
       "      <th>review_id</th>\n",
       "      <th>business_id</th>\n",
       "      <th>stars</th>\n",
       "      <th>name</th>\n",
       "      <th>text</th>\n",
       "      <th>restaurant_avg_star</th>\n",
       "      <th>review_count</th>\n",
       "      <th>avg_stars10m_radius</th>\n",
       "      <th>date</th>\n",
       "    </tr>\n",
       "  </thead>\n",
       "  <tbody>\n",
       "    <tr>\n",
       "      <th>7987</th>\n",
       "      <td>yyrMqY7sNp5gT7KJ1AaYWA</td>\n",
       "      <td>GBTPC53ZrG1ZBY3DT8Mbcw</td>\n",
       "      <td>4.0</td>\n",
       "      <td>Luke</td>\n",
       "      <td>We have been here twice for brunch and have en...</td>\n",
       "      <td>4.0</td>\n",
       "      <td>4554</td>\n",
       "      <td>4.05814</td>\n",
       "      <td>2016-03-07</td>\n",
       "    </tr>\n",
       "    <tr>\n",
       "      <th>7988</th>\n",
       "      <td>wEfzqOfbwn4Ohe2ZDOLAzw</td>\n",
       "      <td>GBTPC53ZrG1ZBY3DT8Mbcw</td>\n",
       "      <td>4.0</td>\n",
       "      <td>Luke</td>\n",
       "      <td>First meal in New Orleans. I had the $15 lunch...</td>\n",
       "      <td>4.0</td>\n",
       "      <td>4554</td>\n",
       "      <td>4.05814</td>\n",
       "      <td>2012-11-06</td>\n",
       "    </tr>\n",
       "  </tbody>\n",
       "</table>\n",
       "</div>"
      ],
      "text/plain": [
       "                   review_id             business_id  stars  name  \\\n",
       "7987  yyrMqY7sNp5gT7KJ1AaYWA  GBTPC53ZrG1ZBY3DT8Mbcw    4.0  Luke   \n",
       "7988  wEfzqOfbwn4Ohe2ZDOLAzw  GBTPC53ZrG1ZBY3DT8Mbcw    4.0  Luke   \n",
       "\n",
       "                                                   text  restaurant_avg_star  \\\n",
       "7987  We have been here twice for brunch and have en...                  4.0   \n",
       "7988  First meal in New Orleans. I had the $15 lunch...                  4.0   \n",
       "\n",
       "      review_count  avg_stars10m_radius        date  \n",
       "7987          4554              4.05814  2016-03-07  \n",
       "7988          4554              4.05814  2012-11-06  "
      ]
     },
     "execution_count": 76,
     "metadata": {},
     "output_type": "execute_result"
    }
   ],
   "source": [
    "df_review_top10.head(2)"
   ]
  },
  {
   "cell_type": "code",
   "execution_count": 77,
   "id": "1994c980",
   "metadata": {},
   "outputs": [
    {
     "data": {
      "text/plain": [
       "array(['Luke', 'Gumbo Shop', \"Commander's Palace\", 'Royal House',\n",
       "       \"Felix's Restaurant & Oyster Bar\", 'Cochon', \"Mother's Restaurant\",\n",
       "       'Oceana Grill', 'Acme Oyster House', 'Ruby Slipper - New Orleans'],\n",
       "      dtype=object)"
      ]
     },
     "execution_count": 77,
     "metadata": {},
     "output_type": "execute_result"
    }
   ],
   "source": [
    "top10_restaurants = df_review_top10['name'].unique()\n",
    "top10_restaurants"
   ]
  },
  {
   "cell_type": "markdown",
   "id": "7025a9c0",
   "metadata": {},
   "source": [
    "## df_business_top10"
   ]
  },
  {
   "cell_type": "code",
   "execution_count": 78,
   "id": "d1d48026",
   "metadata": {},
   "outputs": [
    {
     "data": {
      "text/html": [
       "<div>\n",
       "<style scoped>\n",
       "    .dataframe tbody tr th:only-of-type {\n",
       "        vertical-align: middle;\n",
       "    }\n",
       "\n",
       "    .dataframe tbody tr th {\n",
       "        vertical-align: top;\n",
       "    }\n",
       "\n",
       "    .dataframe thead th {\n",
       "        text-align: right;\n",
       "    }\n",
       "</style>\n",
       "<table border=\"1\" class=\"dataframe\">\n",
       "  <thead>\n",
       "    <tr style=\"text-align: right;\">\n",
       "      <th></th>\n",
       "      <th>business_id</th>\n",
       "      <th>stars</th>\n",
       "      <th>name</th>\n",
       "      <th>review_count</th>\n",
       "      <th>categories</th>\n",
       "      <th>avg_stars10m_radius</th>\n",
       "    </tr>\n",
       "  </thead>\n",
       "  <tbody>\n",
       "    <tr>\n",
       "      <th>11</th>\n",
       "      <td>GBTPC53ZrG1ZBY3DT8Mbcw</td>\n",
       "      <td>4.0</td>\n",
       "      <td>Luke</td>\n",
       "      <td>4554</td>\n",
       "      <td>German, Restaurants, Seafood, Cocktail Bars, F...</td>\n",
       "      <td>4.05814</td>\n",
       "    </tr>\n",
       "    <tr>\n",
       "      <th>73</th>\n",
       "      <td>VQcCL9PiNL_wkGf-uF3fjg</td>\n",
       "      <td>4.0</td>\n",
       "      <td>Royal House</td>\n",
       "      <td>5070</td>\n",
       "      <td>American (New), Restaurants, Sandwiches, Seafo...</td>\n",
       "      <td>4.05814</td>\n",
       "    </tr>\n",
       "    <tr>\n",
       "      <th>75</th>\n",
       "      <td>_C7QiQQc47AOEv4PE3Kong</td>\n",
       "      <td>4.5</td>\n",
       "      <td>Commander's Palace</td>\n",
       "      <td>4876</td>\n",
       "      <td>French, Restaurants, Cocktail Bars, Nightlife,...</td>\n",
       "      <td>4.05814</td>\n",
       "    </tr>\n",
       "    <tr>\n",
       "      <th>96</th>\n",
       "      <td>qb28j-FNX1_6xm7u372TZA</td>\n",
       "      <td>4.0</td>\n",
       "      <td>Gumbo Shop</td>\n",
       "      <td>3902</td>\n",
       "      <td>Cajun/Creole, Seafood, Restaurants</td>\n",
       "      <td>4.05814</td>\n",
       "    </tr>\n",
       "    <tr>\n",
       "      <th>130</th>\n",
       "      <td>VaO-VW3e1kARkU9bP1E7Fw</td>\n",
       "      <td>4.0</td>\n",
       "      <td>Felix's Restaurant &amp; Oyster Bar</td>\n",
       "      <td>3966</td>\n",
       "      <td>Restaurants, Sandwiches, Seafood, Cajun/Creole</td>\n",
       "      <td>4.05814</td>\n",
       "    </tr>\n",
       "    <tr>\n",
       "      <th>182</th>\n",
       "      <td>6a4gLLFSgr-Q6CZXDLzBGQ</td>\n",
       "      <td>4.0</td>\n",
       "      <td>Cochon</td>\n",
       "      <td>4421</td>\n",
       "      <td>Cajun/Creole, Seafood, Restaurants</td>\n",
       "      <td>4.05814</td>\n",
       "    </tr>\n",
       "    <tr>\n",
       "      <th>187</th>\n",
       "      <td>iSRTaT9WngzB8JJ2YKJUig</td>\n",
       "      <td>3.5</td>\n",
       "      <td>Mother's Restaurant</td>\n",
       "      <td>5185</td>\n",
       "      <td>Cajun/Creole, Restaurants, Event Planning &amp; Se...</td>\n",
       "      <td>4.05814</td>\n",
       "    </tr>\n",
       "    <tr>\n",
       "      <th>215</th>\n",
       "      <td>ac1AeYqs8Z4_e2X5M3if2A</td>\n",
       "      <td>4.0</td>\n",
       "      <td>Oceana Grill</td>\n",
       "      <td>7400</td>\n",
       "      <td>Restaurants, Seafood, Cajun/Creole, Breakfast ...</td>\n",
       "      <td>4.05814</td>\n",
       "    </tr>\n",
       "    <tr>\n",
       "      <th>218</th>\n",
       "      <td>_ab50qdWOk0DdB6XOrBitw</td>\n",
       "      <td>4.0</td>\n",
       "      <td>Acme Oyster House</td>\n",
       "      <td>7568</td>\n",
       "      <td>Live/Raw Food, Seafood, Restaurants, Cajun/Creole</td>\n",
       "      <td>4.05814</td>\n",
       "    </tr>\n",
       "    <tr>\n",
       "      <th>294</th>\n",
       "      <td>oBNrLz4EDhiscSlbOl8uAw</td>\n",
       "      <td>4.5</td>\n",
       "      <td>Ruby Slipper - New Orleans</td>\n",
       "      <td>5193</td>\n",
       "      <td>Restaurants, American (Traditional), American ...</td>\n",
       "      <td>4.05814</td>\n",
       "    </tr>\n",
       "  </tbody>\n",
       "</table>\n",
       "</div>"
      ],
      "text/plain": [
       "                business_id  stars                             name  \\\n",
       "11   GBTPC53ZrG1ZBY3DT8Mbcw    4.0                             Luke   \n",
       "73   VQcCL9PiNL_wkGf-uF3fjg    4.0                      Royal House   \n",
       "75   _C7QiQQc47AOEv4PE3Kong    4.5               Commander's Palace   \n",
       "96   qb28j-FNX1_6xm7u372TZA    4.0                       Gumbo Shop   \n",
       "130  VaO-VW3e1kARkU9bP1E7Fw    4.0  Felix's Restaurant & Oyster Bar   \n",
       "182  6a4gLLFSgr-Q6CZXDLzBGQ    4.0                           Cochon   \n",
       "187  iSRTaT9WngzB8JJ2YKJUig    3.5              Mother's Restaurant   \n",
       "215  ac1AeYqs8Z4_e2X5M3if2A    4.0                     Oceana Grill   \n",
       "218  _ab50qdWOk0DdB6XOrBitw    4.0                Acme Oyster House   \n",
       "294  oBNrLz4EDhiscSlbOl8uAw    4.5       Ruby Slipper - New Orleans   \n",
       "\n",
       "     review_count                                         categories  \\\n",
       "11           4554  German, Restaurants, Seafood, Cocktail Bars, F...   \n",
       "73           5070  American (New), Restaurants, Sandwiches, Seafo...   \n",
       "75           4876  French, Restaurants, Cocktail Bars, Nightlife,...   \n",
       "96           3902                 Cajun/Creole, Seafood, Restaurants   \n",
       "130          3966     Restaurants, Sandwiches, Seafood, Cajun/Creole   \n",
       "182          4421                 Cajun/Creole, Seafood, Restaurants   \n",
       "187          5185  Cajun/Creole, Restaurants, Event Planning & Se...   \n",
       "215          7400  Restaurants, Seafood, Cajun/Creole, Breakfast ...   \n",
       "218          7568  Live/Raw Food, Seafood, Restaurants, Cajun/Creole   \n",
       "294          5193  Restaurants, American (Traditional), American ...   \n",
       "\n",
       "     avg_stars10m_radius  \n",
       "11               4.05814  \n",
       "73               4.05814  \n",
       "75               4.05814  \n",
       "96               4.05814  \n",
       "130              4.05814  \n",
       "182              4.05814  \n",
       "187              4.05814  \n",
       "215              4.05814  \n",
       "218              4.05814  \n",
       "294              4.05814  "
      ]
     },
     "execution_count": 78,
     "metadata": {},
     "output_type": "execute_result"
    }
   ],
   "source": [
    "df_business_top10 = df_business[df_business['name'].isin(top10_restaurants)]\n",
    "df_business_top10.head(10)"
   ]
  },
  {
   "cell_type": "markdown",
   "id": "3a202e4d",
   "metadata": {},
   "source": [
    "# Preprocess - Clean Text\n"
   ]
  },
  {
   "cell_type": "code",
   "execution_count": 79,
   "id": "d0e31f65",
   "metadata": {},
   "outputs": [
    {
     "name": "stderr",
     "output_type": "stream",
     "text": [
      "/var/folders/_n/cr9xqtgn70g_tclcyk9hd0nw0000gn/T/ipykernel_5961/3519110220.py:24: SettingWithCopyWarning: \n",
      "A value is trying to be set on a copy of a slice from a DataFrame.\n",
      "Try using .loc[row_indexer,col_indexer] = value instead\n",
      "\n",
      "See the caveats in the documentation: https://pandas.pydata.org/pandas-docs/stable/user_guide/indexing.html#returning-a-view-versus-a-copy\n",
      "  df_review_top10['clean_text'] = df_review_top10['text'].apply(preprocessing)\n"
     ]
    }
   ],
   "source": [
    "def remove_punctuation(text):\n",
    "    return \"\".join(char for char in text if not char in string.punctuation)\n",
    "preprocessed_stopwords= [remove_punctuation(word) for word in stopwords.words('english')]\n",
    "\n",
    "def preprocessing(sentence):\n",
    "    # remove whitespace\n",
    "    t1 = sentence.strip()\n",
    "    # lowercase characters\n",
    "    t2 = t1.lower()\n",
    "    # remove numbers\n",
    "    \n",
    "    t3 = ''.join(char for char in t2 if not char.isdigit())\n",
    "    # remove punctuation\n",
    "    t4 = \"\".join(char for char in t3 if not char in string.punctuation)\n",
    "    # tokenize\n",
    "    tokens = t4.split(\" \")\n",
    "    # lemmatize\n",
    "    stopwords_removed = [\n",
    "        word for word in tokens if word not in preprocessed_stopwords\n",
    "    ]\n",
    "    return \" \".join(stopwords_removed)\n",
    "\n",
    "# Clean reviews\n",
    "df_review_top10['clean_text'] = df_review_top10['text'].apply(preprocessing)"
   ]
  },
  {
   "cell_type": "code",
   "execution_count": 80,
   "id": "d2253c3f",
   "metadata": {},
   "outputs": [
    {
     "data": {
      "text/html": [
       "<div>\n",
       "<style scoped>\n",
       "    .dataframe tbody tr th:only-of-type {\n",
       "        vertical-align: middle;\n",
       "    }\n",
       "\n",
       "    .dataframe tbody tr th {\n",
       "        vertical-align: top;\n",
       "    }\n",
       "\n",
       "    .dataframe thead th {\n",
       "        text-align: right;\n",
       "    }\n",
       "</style>\n",
       "<table border=\"1\" class=\"dataframe\">\n",
       "  <thead>\n",
       "    <tr style=\"text-align: right;\">\n",
       "      <th></th>\n",
       "      <th>review_id</th>\n",
       "      <th>business_id</th>\n",
       "      <th>stars</th>\n",
       "      <th>name</th>\n",
       "      <th>text</th>\n",
       "      <th>restaurant_avg_star</th>\n",
       "      <th>review_count</th>\n",
       "      <th>avg_stars10m_radius</th>\n",
       "      <th>date</th>\n",
       "      <th>clean_text</th>\n",
       "    </tr>\n",
       "  </thead>\n",
       "  <tbody>\n",
       "    <tr>\n",
       "      <th>7987</th>\n",
       "      <td>yyrMqY7sNp5gT7KJ1AaYWA</td>\n",
       "      <td>GBTPC53ZrG1ZBY3DT8Mbcw</td>\n",
       "      <td>4.0</td>\n",
       "      <td>Luke</td>\n",
       "      <td>We have been here twice for brunch and have en...</td>\n",
       "      <td>4.0</td>\n",
       "      <td>4554</td>\n",
       "      <td>4.05814</td>\n",
       "      <td>2016-03-07</td>\n",
       "      <td>twice brunch enjoyed immensely everything trie...</td>\n",
       "    </tr>\n",
       "    <tr>\n",
       "      <th>7988</th>\n",
       "      <td>wEfzqOfbwn4Ohe2ZDOLAzw</td>\n",
       "      <td>GBTPC53ZrG1ZBY3DT8Mbcw</td>\n",
       "      <td>4.0</td>\n",
       "      <td>Luke</td>\n",
       "      <td>First meal in New Orleans. I had the $15 lunch...</td>\n",
       "      <td>4.0</td>\n",
       "      <td>4554</td>\n",
       "      <td>4.05814</td>\n",
       "      <td>2012-11-06</td>\n",
       "      <td>first meal new orleans  lunch special seafood ...</td>\n",
       "    </tr>\n",
       "  </tbody>\n",
       "</table>\n",
       "</div>"
      ],
      "text/plain": [
       "                   review_id             business_id  stars  name  \\\n",
       "7987  yyrMqY7sNp5gT7KJ1AaYWA  GBTPC53ZrG1ZBY3DT8Mbcw    4.0  Luke   \n",
       "7988  wEfzqOfbwn4Ohe2ZDOLAzw  GBTPC53ZrG1ZBY3DT8Mbcw    4.0  Luke   \n",
       "\n",
       "                                                   text  restaurant_avg_star  \\\n",
       "7987  We have been here twice for brunch and have en...                  4.0   \n",
       "7988  First meal in New Orleans. I had the $15 lunch...                  4.0   \n",
       "\n",
       "      review_count  avg_stars10m_radius        date  \\\n",
       "7987          4554              4.05814  2016-03-07   \n",
       "7988          4554              4.05814  2012-11-06   \n",
       "\n",
       "                                             clean_text  \n",
       "7987  twice brunch enjoyed immensely everything trie...  \n",
       "7988  first meal new orleans  lunch special seafood ...  "
      ]
     },
     "execution_count": 80,
     "metadata": {},
     "output_type": "execute_result"
    }
   ],
   "source": [
    "df_review_top10.head(2)"
   ]
  },
  {
   "cell_type": "markdown",
   "id": "1ecbb6e9",
   "metadata": {},
   "source": [
    "# Export dataframes to CSV"
   ]
  },
  {
   "cell_type": "code",
   "execution_count": 81,
   "id": "2e44469e",
   "metadata": {},
   "outputs": [],
   "source": [
    "df_review_top10.to_csv('notebooks/csv/df_review_top10.csv', index=False)"
   ]
  },
  {
   "cell_type": "code",
   "execution_count": 82,
   "id": "952f02ad",
   "metadata": {},
   "outputs": [],
   "source": [
    "df_business_top10.to_csv('notebooks/csv/df_business_top10.csv', index=False)"
   ]
  },
  {
   "cell_type": "code",
   "execution_count": 139,
   "id": "b3658977",
   "metadata": {},
   "outputs": [],
   "source": [
    "df_praise_top10.to_csv('notebooks/csv/df_praise_top10.csv', index=False)"
   ]
  },
  {
   "cell_type": "code",
   "execution_count": 140,
   "id": "8f34d47c",
   "metadata": {},
   "outputs": [],
   "source": [
    "df_complaint_top10.to_csv('notebooks/csv/df_complaint_top10.csv', index=False)"
   ]
  },
  {
   "cell_type": "code",
   "execution_count": 141,
   "id": "43872165",
   "metadata": {},
   "outputs": [
    {
     "data": {
      "text/html": [
       "<div>\n",
       "<style scoped>\n",
       "    .dataframe tbody tr th:only-of-type {\n",
       "        vertical-align: middle;\n",
       "    }\n",
       "\n",
       "    .dataframe tbody tr th {\n",
       "        vertical-align: top;\n",
       "    }\n",
       "\n",
       "    .dataframe thead th {\n",
       "        text-align: right;\n",
       "    }\n",
       "</style>\n",
       "<table border=\"1\" class=\"dataframe\">\n",
       "  <thead>\n",
       "    <tr style=\"text-align: right;\">\n",
       "      <th></th>\n",
       "      <th>praise_text</th>\n",
       "      <th>praise_score</th>\n",
       "      <th>business_id</th>\n",
       "      <th>name</th>\n",
       "    </tr>\n",
       "  </thead>\n",
       "  <tbody>\n",
       "    <tr>\n",
       "      <th>0</th>\n",
       "      <td>best oyster</td>\n",
       "      <td>2.414669</td>\n",
       "      <td>GBTPC53ZrG1ZBY3DT8Mbcw</td>\n",
       "      <td>Luke</td>\n",
       "    </tr>\n",
       "    <tr>\n",
       "      <th>1</th>\n",
       "      <td>savannah</td>\n",
       "      <td>2.385819</td>\n",
       "      <td>GBTPC53ZrG1ZBY3DT8Mbcw</td>\n",
       "      <td>Luke</td>\n",
       "    </tr>\n",
       "    <tr>\n",
       "      <th>2</th>\n",
       "      <td>sprouts amazing</td>\n",
       "      <td>2.353093</td>\n",
       "      <td>GBTPC53ZrG1ZBY3DT8Mbcw</td>\n",
       "      <td>Luke</td>\n",
       "    </tr>\n",
       "    <tr>\n",
       "      <th>3</th>\n",
       "      <td>richie rich</td>\n",
       "      <td>2.313927</td>\n",
       "      <td>GBTPC53ZrG1ZBY3DT8Mbcw</td>\n",
       "      <td>Luke</td>\n",
       "    </tr>\n",
       "    <tr>\n",
       "      <th>4</th>\n",
       "      <td>tristan</td>\n",
       "      <td>2.294033</td>\n",
       "      <td>GBTPC53ZrG1ZBY3DT8Mbcw</td>\n",
       "      <td>Luke</td>\n",
       "    </tr>\n",
       "  </tbody>\n",
       "</table>\n",
       "</div>"
      ],
      "text/plain": [
       "       praise_text  praise_score             business_id  name\n",
       "0      best oyster      2.414669  GBTPC53ZrG1ZBY3DT8Mbcw  Luke\n",
       "1         savannah      2.385819  GBTPC53ZrG1ZBY3DT8Mbcw  Luke\n",
       "2  sprouts amazing      2.353093  GBTPC53ZrG1ZBY3DT8Mbcw  Luke\n",
       "3      richie rich      2.313927  GBTPC53ZrG1ZBY3DT8Mbcw  Luke\n",
       "4          tristan      2.294033  GBTPC53ZrG1ZBY3DT8Mbcw  Luke"
      ]
     },
     "execution_count": 141,
     "metadata": {},
     "output_type": "execute_result"
    }
   ],
   "source": [
    "df_praise_top10.head()"
   ]
  },
  {
   "cell_type": "code",
   "execution_count": null,
   "id": "5a824534",
   "metadata": {},
   "outputs": [],
   "source": []
  },
  {
   "cell_type": "code",
   "execution_count": 142,
   "id": "6ec99f4b",
   "metadata": {},
   "outputs": [
    {
     "data": {
      "text/html": [
       "<div>\n",
       "<style scoped>\n",
       "    .dataframe tbody tr th:only-of-type {\n",
       "        vertical-align: middle;\n",
       "    }\n",
       "\n",
       "    .dataframe tbody tr th {\n",
       "        vertical-align: top;\n",
       "    }\n",
       "\n",
       "    .dataframe thead th {\n",
       "        text-align: right;\n",
       "    }\n",
       "</style>\n",
       "<table border=\"1\" class=\"dataframe\">\n",
       "  <thead>\n",
       "    <tr style=\"text-align: right;\">\n",
       "      <th></th>\n",
       "      <th>complaint_text</th>\n",
       "      <th>complaint_score</th>\n",
       "      <th>business_id</th>\n",
       "      <th>name</th>\n",
       "    </tr>\n",
       "  </thead>\n",
       "  <tbody>\n",
       "    <tr>\n",
       "      <th>0</th>\n",
       "      <td>poor</td>\n",
       "      <td>0.519310</td>\n",
       "      <td>GBTPC53ZrG1ZBY3DT8Mbcw</td>\n",
       "      <td>Luke</td>\n",
       "    </tr>\n",
       "    <tr>\n",
       "      <th>1</th>\n",
       "      <td>customers</td>\n",
       "      <td>0.377411</td>\n",
       "      <td>GBTPC53ZrG1ZBY3DT8Mbcw</td>\n",
       "      <td>Luke</td>\n",
       "    </tr>\n",
       "    <tr>\n",
       "      <th>2</th>\n",
       "      <td>terrible</td>\n",
       "      <td>0.295643</td>\n",
       "      <td>GBTPC53ZrG1ZBY3DT8Mbcw</td>\n",
       "      <td>Luke</td>\n",
       "    </tr>\n",
       "    <tr>\n",
       "      <th>3</th>\n",
       "      <td>second</td>\n",
       "      <td>0.218373</td>\n",
       "      <td>GBTPC53ZrG1ZBY3DT8Mbcw</td>\n",
       "      <td>Luke</td>\n",
       "    </tr>\n",
       "    <tr>\n",
       "      <th>4</th>\n",
       "      <td>open</td>\n",
       "      <td>0.201872</td>\n",
       "      <td>GBTPC53ZrG1ZBY3DT8Mbcw</td>\n",
       "      <td>Luke</td>\n",
       "    </tr>\n",
       "  </tbody>\n",
       "</table>\n",
       "</div>"
      ],
      "text/plain": [
       "  complaint_text  complaint_score             business_id  name\n",
       "0           poor         0.519310  GBTPC53ZrG1ZBY3DT8Mbcw  Luke\n",
       "1      customers         0.377411  GBTPC53ZrG1ZBY3DT8Mbcw  Luke\n",
       "2       terrible         0.295643  GBTPC53ZrG1ZBY3DT8Mbcw  Luke\n",
       "3         second         0.218373  GBTPC53ZrG1ZBY3DT8Mbcw  Luke\n",
       "4           open         0.201872  GBTPC53ZrG1ZBY3DT8Mbcw  Luke"
      ]
     },
     "execution_count": 142,
     "metadata": {},
     "output_type": "execute_result"
    }
   ],
   "source": [
    "df_complaint_top10.head()"
   ]
  },
  {
   "cell_type": "markdown",
   "id": "8ea68e9d",
   "metadata": {},
   "source": [
    "# Preprocess - Vectorize"
   ]
  },
  {
   "cell_type": "markdown",
   "id": "87d2d369",
   "metadata": {},
   "source": [
    "This cannot run"
   ]
  },
  {
   "cell_type": "code",
   "execution_count": null,
   "id": "7f85bb64",
   "metadata": {},
   "outputs": [],
   "source": [
    "# vectorizer = TfidfVectorizer(ngram_range=(1,3))\n",
    "# vectorized_text = vectorizer.fit_transform(df_review_top10['clean_text'])\n",
    "# vectorized_text = pd.DataFrame(\n",
    "#     vectorized_text.toarray(),\n",
    "#     columns = vectorizer.get_feature_names_out()\n",
    "# )"
   ]
  },
  {
   "cell_type": "code",
   "execution_count": null,
   "id": "882c9ef2",
   "metadata": {},
   "outputs": [],
   "source": []
  },
  {
   "cell_type": "code",
   "execution_count": null,
   "id": "6caee12e",
   "metadata": {},
   "outputs": [],
   "source": []
  },
  {
   "cell_type": "code",
   "execution_count": null,
   "id": "03b6bedb",
   "metadata": {},
   "outputs": [],
   "source": []
  }
 ],
 "metadata": {
  "kernelspec": {
   "display_name": "Python 3 (ipykernel)",
   "language": "python",
   "name": "python3"
  },
  "language_info": {
   "codemirror_mode": {
    "name": "ipython",
    "version": 3
   },
   "file_extension": ".py",
   "mimetype": "text/x-python",
   "name": "python",
   "nbconvert_exporter": "python",
   "pygments_lexer": "ipython3",
   "version": "3.10.6"
  },
  "toc": {
   "base_numbering": 1,
   "nav_menu": {},
   "number_sections": true,
   "sideBar": true,
   "skip_h1_title": false,
   "title_cell": "Table of Contents",
   "title_sidebar": "Contents",
   "toc_cell": false,
   "toc_position": {},
   "toc_section_display": true,
   "toc_window_display": false
  }
 },
 "nbformat": 4,
 "nbformat_minor": 5
}
