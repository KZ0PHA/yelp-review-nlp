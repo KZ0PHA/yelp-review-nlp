{
 "cells": [
  {
   "cell_type": "code",
   "execution_count": 5,
   "id": "05258b5b",
   "metadata": {},
   "outputs": [],
   "source": [
    "import pandas as pd\n",
    "import string\n",
    "from nltk.corpus import stopwords\n",
    "from nltk import word_tokenize\n",
    "from nltk.stem import WordNetLemmatizer\n",
    "from sklearn.feature_extraction.text import TfidfVectorizer\n",
    "import streamlit as st"
   ]
  },
  {
   "cell_type": "markdown",
   "id": "a032ca94",
   "metadata": {},
   "source": [
    "# Download the raw data from Yelp"
   ]
  },
  {
   "cell_type": "markdown",
   "id": "60396836",
   "metadata": {},
   "source": [
    "URL: https://www.yelp.com/dataset/download\n",
    "        \n",
    "The total file size is 4GB. "
   ]
  },
  {
   "cell_type": "markdown",
   "id": "b234fe11",
   "metadata": {},
   "source": [
    "# Import raw data (json) and convert into CSV"
   ]
  },
  {
   "cell_type": "markdown",
   "id": "f74fa0bd",
   "metadata": {},
   "source": [
    "It takes 5 minutes to run"
   ]
  },
  {
   "cell_type": "code",
   "execution_count": 10,
   "id": "b344f52e",
   "metadata": {},
   "outputs": [],
   "source": [
    "import json\n",
    "\n",
    "def conv_json_to_csv(inFile, outFile):\n",
    "    with open(inFile) as f:\n",
    "        data = []\n",
    "        for line in f:\n",
    "            if line.strip():  # Check if the line is not empty\n",
    "                obj = json.loads(line)\n",
    "                data.append(obj)\n",
    "\n",
    "    # Open the CSV file in write mode\n",
    "    with open(outFile, 'w', newline='') as file:\n",
    "        fieldnames = data[0].keys()\n",
    "        writer = csv.DictWriter(file, fieldnames=fieldnames)\n",
    "\n",
    "        # Write the header row\n",
    "        writer.writeheader()\n",
    "\n",
    "        # Write the data rows\n",
    "        writer.writerows(data)\n",
    "        \n",
    "conv_json_to_csv('raw_data/yelp_academic_dataset_review.json', 'notebooks/csv/yelp_review.csv')\n",
    "conv_json_to_csv('raw_data/yelp_academic_dataset_business.json', 'notebooks/csv/yelp_business.csv')"
   ]
  },
  {
   "cell_type": "markdown",
   "id": "e623efe3",
   "metadata": {},
   "source": [
    "# Create the dataframes (Business / Review / Rene)"
   ]
  },
  {
   "cell_type": "code",
   "execution_count": 6,
   "id": "dcd25899",
   "metadata": {},
   "outputs": [],
   "source": [
    "df_business = pd.read_csv('notebooks/csv/yelp_business.csv')\n",
    "\n",
    "# Ask Sophia to get the CSV file\n",
    "df_review = pd.read_csv('notebooks/csv/new_orleans_reviews.csv')\n",
    "\n",
    "# Ask Rene to get the CSV file\n",
    "df_rene = pd.read_csv('notebooks/csv/avg_stars10m_radius.csv')"
   ]
  },
  {
   "cell_type": "markdown",
   "id": "65a4dcfd",
   "metadata": {},
   "source": [
    "# Combine the 3 Tables into 1"
   ]
  },
  {
   "cell_type": "markdown",
   "id": "ddf9466e",
   "metadata": {},
   "source": [
    "## Combine df_business & df_rene"
   ]
  },
  {
   "cell_type": "code",
   "execution_count": 7,
   "id": "462e9da1",
   "metadata": {},
   "outputs": [
    {
     "data": {
      "text/html": [
       "<div>\n",
       "<style scoped>\n",
       "    .dataframe tbody tr th:only-of-type {\n",
       "        vertical-align: middle;\n",
       "    }\n",
       "\n",
       "    .dataframe tbody tr th {\n",
       "        vertical-align: top;\n",
       "    }\n",
       "\n",
       "    .dataframe thead th {\n",
       "        text-align: right;\n",
       "    }\n",
       "</style>\n",
       "<table border=\"1\" class=\"dataframe\">\n",
       "  <thead>\n",
       "    <tr style=\"text-align: right;\">\n",
       "      <th></th>\n",
       "      <th>business_id</th>\n",
       "      <th>stars</th>\n",
       "      <th>name</th>\n",
       "      <th>review_count</th>\n",
       "      <th>categories</th>\n",
       "    </tr>\n",
       "  </thead>\n",
       "  <tbody>\n",
       "    <tr>\n",
       "      <th>0</th>\n",
       "      <td>Pns2l4eNsfO8kk83dixA6A</td>\n",
       "      <td>5.0</td>\n",
       "      <td>Abby Rappoport, LAC, CMQ</td>\n",
       "      <td>7</td>\n",
       "      <td>Doctors, Traditional Chinese Medicine, Naturop...</td>\n",
       "    </tr>\n",
       "    <tr>\n",
       "      <th>1</th>\n",
       "      <td>mpf3x-BjTdTEA3yCZrAYPw</td>\n",
       "      <td>3.0</td>\n",
       "      <td>The UPS Store</td>\n",
       "      <td>15</td>\n",
       "      <td>Shipping Centers, Local Services, Notaries, Ma...</td>\n",
       "    </tr>\n",
       "  </tbody>\n",
       "</table>\n",
       "</div>"
      ],
      "text/plain": [
       "              business_id  stars                      name  review_count  \\\n",
       "0  Pns2l4eNsfO8kk83dixA6A    5.0  Abby Rappoport, LAC, CMQ             7   \n",
       "1  mpf3x-BjTdTEA3yCZrAYPw    3.0             The UPS Store            15   \n",
       "\n",
       "                                          categories  \n",
       "0  Doctors, Traditional Chinese Medicine, Naturop...  \n",
       "1  Shipping Centers, Local Services, Notaries, Ma...  "
      ]
     },
     "execution_count": 7,
     "metadata": {},
     "output_type": "execute_result"
    }
   ],
   "source": [
    "df_business = df_business[['business_id', 'stars','name','review_count','categories']]\n",
    "df_business.head(2)"
   ]
  },
  {
   "cell_type": "code",
   "execution_count": 8,
   "id": "8e4ee675",
   "metadata": {},
   "outputs": [
    {
     "data": {
      "text/html": [
       "<div>\n",
       "<style scoped>\n",
       "    .dataframe tbody tr th:only-of-type {\n",
       "        vertical-align: middle;\n",
       "    }\n",
       "\n",
       "    .dataframe tbody tr th {\n",
       "        vertical-align: top;\n",
       "    }\n",
       "\n",
       "    .dataframe thead th {\n",
       "        text-align: right;\n",
       "    }\n",
       "</style>\n",
       "<table border=\"1\" class=\"dataframe\">\n",
       "  <thead>\n",
       "    <tr style=\"text-align: right;\">\n",
       "      <th></th>\n",
       "      <th>business_id</th>\n",
       "      <th>avg_stars10m_radius</th>\n",
       "    </tr>\n",
       "  </thead>\n",
       "  <tbody>\n",
       "    <tr>\n",
       "      <th>0</th>\n",
       "      <td>-0TffRSXXIlBYVbb5AwfTg</td>\n",
       "      <td>4.016129</td>\n",
       "    </tr>\n",
       "    <tr>\n",
       "      <th>1</th>\n",
       "      <td>-FM4CxOg4XXmX_Ebky_SiQ</td>\n",
       "      <td>4.192308</td>\n",
       "    </tr>\n",
       "  </tbody>\n",
       "</table>\n",
       "</div>"
      ],
      "text/plain": [
       "              business_id  avg_stars10m_radius\n",
       "0  -0TffRSXXIlBYVbb5AwfTg             4.016129\n",
       "1  -FM4CxOg4XXmX_Ebky_SiQ             4.192308"
      ]
     },
     "execution_count": 8,
     "metadata": {},
     "output_type": "execute_result"
    }
   ],
   "source": [
    "df_rene = df_rene[[\"business_id\",\"avg_stars10m_radius\"]]\n",
    "df_rene.head(2)"
   ]
  },
  {
   "cell_type": "code",
   "execution_count": 9,
   "id": "6336f3d1",
   "metadata": {},
   "outputs": [
    {
     "data": {
      "text/html": [
       "<div>\n",
       "<style scoped>\n",
       "    .dataframe tbody tr th:only-of-type {\n",
       "        vertical-align: middle;\n",
       "    }\n",
       "\n",
       "    .dataframe tbody tr th {\n",
       "        vertical-align: top;\n",
       "    }\n",
       "\n",
       "    .dataframe thead th {\n",
       "        text-align: right;\n",
       "    }\n",
       "</style>\n",
       "<table border=\"1\" class=\"dataframe\">\n",
       "  <thead>\n",
       "    <tr style=\"text-align: right;\">\n",
       "      <th></th>\n",
       "      <th>business_id</th>\n",
       "      <th>stars</th>\n",
       "      <th>name</th>\n",
       "      <th>review_count</th>\n",
       "      <th>categories</th>\n",
       "      <th>avg_stars10m_radius</th>\n",
       "    </tr>\n",
       "  </thead>\n",
       "  <tbody>\n",
       "    <tr>\n",
       "      <th>0</th>\n",
       "      <td>SZU9c8V2GuREDN5KgyHFJw</td>\n",
       "      <td>4.0</td>\n",
       "      <td>Santa Barbara Shellfish Company</td>\n",
       "      <td>2404</td>\n",
       "      <td>Live/Raw Food, Restaurants, Seafood, Beer Bar,...</td>\n",
       "      <td>4.192308</td>\n",
       "    </tr>\n",
       "    <tr>\n",
       "      <th>1</th>\n",
       "      <td>ORL4JE6tz3rJxVqkdKfegA</td>\n",
       "      <td>3.0</td>\n",
       "      <td>Gaylord Opryland Resort &amp; Convention Center</td>\n",
       "      <td>1639</td>\n",
       "      <td>Venues &amp; Event Spaces, Performing Arts, Arts &amp;...</td>\n",
       "      <td>4.166667</td>\n",
       "    </tr>\n",
       "  </tbody>\n",
       "</table>\n",
       "</div>"
      ],
      "text/plain": [
       "              business_id  stars                                         name  \\\n",
       "0  SZU9c8V2GuREDN5KgyHFJw    4.0              Santa Barbara Shellfish Company   \n",
       "1  ORL4JE6tz3rJxVqkdKfegA    3.0  Gaylord Opryland Resort & Convention Center   \n",
       "\n",
       "   review_count                                         categories  \\\n",
       "0          2404  Live/Raw Food, Restaurants, Seafood, Beer Bar,...   \n",
       "1          1639  Venues & Event Spaces, Performing Arts, Arts &...   \n",
       "\n",
       "   avg_stars10m_radius  \n",
       "0             4.192308  \n",
       "1             4.166667  "
      ]
     },
     "execution_count": 9,
     "metadata": {},
     "output_type": "execute_result"
    }
   ],
   "source": [
    "df_business = pd.merge(df_business, df_rene, on='business_id', how='inner')\n",
    "df_business.head(2)"
   ]
  },
  {
   "cell_type": "code",
   "execution_count": 10,
   "id": "9d9743aa",
   "metadata": {},
   "outputs": [],
   "source": [
    "df_business.to_csv('notebooks/csv/df_business.csv', index=False)"
   ]
  },
  {
   "cell_type": "markdown",
   "id": "c918bc36",
   "metadata": {},
   "source": [
    "## Combine df_review & df_business"
   ]
  },
  {
   "cell_type": "code",
   "execution_count": 11,
   "id": "8e593491",
   "metadata": {},
   "outputs": [
    {
     "data": {
      "text/html": [
       "<div>\n",
       "<style scoped>\n",
       "    .dataframe tbody tr th:only-of-type {\n",
       "        vertical-align: middle;\n",
       "    }\n",
       "\n",
       "    .dataframe tbody tr th {\n",
       "        vertical-align: top;\n",
       "    }\n",
       "\n",
       "    .dataframe thead th {\n",
       "        text-align: right;\n",
       "    }\n",
       "</style>\n",
       "<table border=\"1\" class=\"dataframe\">\n",
       "  <thead>\n",
       "    <tr style=\"text-align: right;\">\n",
       "      <th></th>\n",
       "      <th>review_id</th>\n",
       "      <th>user_id</th>\n",
       "      <th>business_id</th>\n",
       "      <th>stars</th>\n",
       "      <th>useful</th>\n",
       "      <th>funny</th>\n",
       "      <th>cool</th>\n",
       "      <th>text</th>\n",
       "      <th>date</th>\n",
       "      <th>restaurant_avg_star</th>\n",
       "      <th>name</th>\n",
       "      <th>review_count</th>\n",
       "      <th>categories</th>\n",
       "      <th>avg_stars10m_radius</th>\n",
       "    </tr>\n",
       "  </thead>\n",
       "  <tbody>\n",
       "    <tr>\n",
       "      <th>0</th>\n",
       "      <td>z0osLHDvXvzfm57D4DmD2Q</td>\n",
       "      <td>xVKE_HJ2pwUtTdLbL3pnCg</td>\n",
       "      <td>S2Ho8yLxhKAa26pBAm6rxA</td>\n",
       "      <td>3.0</td>\n",
       "      <td>0</td>\n",
       "      <td>0</td>\n",
       "      <td>0</td>\n",
       "      <td>Service was crappy, and food was mediocre.  I ...</td>\n",
       "      <td>2016-11-22 00:22:53</td>\n",
       "      <td>4.0</td>\n",
       "      <td>Creole House Restaurant &amp; Oyster Bar</td>\n",
       "      <td>1594</td>\n",
       "      <td>Cajun/Creole, Seafood, Restaurants, Breakfast ...</td>\n",
       "      <td>4.05814</td>\n",
       "    </tr>\n",
       "    <tr>\n",
       "      <th>1</th>\n",
       "      <td>tXHWJWnTdrraHGUqaPWj3g</td>\n",
       "      <td>zKAHSNzqvwsyoFCw3QpafA</td>\n",
       "      <td>S2Ho8yLxhKAa26pBAm6rxA</td>\n",
       "      <td>4.0</td>\n",
       "      <td>0</td>\n",
       "      <td>0</td>\n",
       "      <td>0</td>\n",
       "      <td>Enjoyed my fish out at a sidewalk table.  A bi...</td>\n",
       "      <td>2018-05-19 01:14:05</td>\n",
       "      <td>4.0</td>\n",
       "      <td>Creole House Restaurant &amp; Oyster Bar</td>\n",
       "      <td>1594</td>\n",
       "      <td>Cajun/Creole, Seafood, Restaurants, Breakfast ...</td>\n",
       "      <td>4.05814</td>\n",
       "    </tr>\n",
       "  </tbody>\n",
       "</table>\n",
       "</div>"
      ],
      "text/plain": [
       "                review_id                 user_id             business_id  \\\n",
       "0  z0osLHDvXvzfm57D4DmD2Q  xVKE_HJ2pwUtTdLbL3pnCg  S2Ho8yLxhKAa26pBAm6rxA   \n",
       "1  tXHWJWnTdrraHGUqaPWj3g  zKAHSNzqvwsyoFCw3QpafA  S2Ho8yLxhKAa26pBAm6rxA   \n",
       "\n",
       "   stars  useful  funny  cool  \\\n",
       "0    3.0       0      0     0   \n",
       "1    4.0       0      0     0   \n",
       "\n",
       "                                                text                 date  \\\n",
       "0  Service was crappy, and food was mediocre.  I ...  2016-11-22 00:22:53   \n",
       "1  Enjoyed my fish out at a sidewalk table.  A bi...  2018-05-19 01:14:05   \n",
       "\n",
       "   restaurant_avg_star                                  name  review_count  \\\n",
       "0                  4.0  Creole House Restaurant & Oyster Bar          1594   \n",
       "1                  4.0  Creole House Restaurant & Oyster Bar          1594   \n",
       "\n",
       "                                          categories  avg_stars10m_radius  \n",
       "0  Cajun/Creole, Seafood, Restaurants, Breakfast ...              4.05814  \n",
       "1  Cajun/Creole, Seafood, Restaurants, Breakfast ...              4.05814  "
      ]
     },
     "execution_count": 11,
     "metadata": {},
     "output_type": "execute_result"
    }
   ],
   "source": [
    "df = pd.merge(df_review, df_business, on='business_id', how='inner')\n",
    "df = df.rename(columns={'stars_x': 'stars'})\n",
    "df = df.rename(columns={'stars_y': 'restaurant_avg_star'})\n",
    "df.head(2)"
   ]
  },
  {
   "cell_type": "code",
   "execution_count": 12,
   "id": "6bc95e9c",
   "metadata": {},
   "outputs": [
    {
     "data": {
      "text/html": [
       "<div>\n",
       "<style scoped>\n",
       "    .dataframe tbody tr th:only-of-type {\n",
       "        vertical-align: middle;\n",
       "    }\n",
       "\n",
       "    .dataframe tbody tr th {\n",
       "        vertical-align: top;\n",
       "    }\n",
       "\n",
       "    .dataframe thead th {\n",
       "        text-align: right;\n",
       "    }\n",
       "</style>\n",
       "<table border=\"1\" class=\"dataframe\">\n",
       "  <thead>\n",
       "    <tr style=\"text-align: right;\">\n",
       "      <th></th>\n",
       "      <th>review_id</th>\n",
       "      <th>business_id</th>\n",
       "      <th>stars</th>\n",
       "      <th>name</th>\n",
       "      <th>text</th>\n",
       "      <th>restaurant_avg_star</th>\n",
       "      <th>review_count</th>\n",
       "      <th>avg_stars10m_radius</th>\n",
       "    </tr>\n",
       "  </thead>\n",
       "  <tbody>\n",
       "    <tr>\n",
       "      <th>0</th>\n",
       "      <td>z0osLHDvXvzfm57D4DmD2Q</td>\n",
       "      <td>S2Ho8yLxhKAa26pBAm6rxA</td>\n",
       "      <td>3.0</td>\n",
       "      <td>Creole House Restaurant &amp; Oyster Bar</td>\n",
       "      <td>Service was crappy, and food was mediocre.  I ...</td>\n",
       "      <td>4.0</td>\n",
       "      <td>1594</td>\n",
       "      <td>4.05814</td>\n",
       "    </tr>\n",
       "    <tr>\n",
       "      <th>1</th>\n",
       "      <td>tXHWJWnTdrraHGUqaPWj3g</td>\n",
       "      <td>S2Ho8yLxhKAa26pBAm6rxA</td>\n",
       "      <td>4.0</td>\n",
       "      <td>Creole House Restaurant &amp; Oyster Bar</td>\n",
       "      <td>Enjoyed my fish out at a sidewalk table.  A bi...</td>\n",
       "      <td>4.0</td>\n",
       "      <td>1594</td>\n",
       "      <td>4.05814</td>\n",
       "    </tr>\n",
       "  </tbody>\n",
       "</table>\n",
       "</div>"
      ],
      "text/plain": [
       "                review_id             business_id  stars  \\\n",
       "0  z0osLHDvXvzfm57D4DmD2Q  S2Ho8yLxhKAa26pBAm6rxA    3.0   \n",
       "1  tXHWJWnTdrraHGUqaPWj3g  S2Ho8yLxhKAa26pBAm6rxA    4.0   \n",
       "\n",
       "                                   name  \\\n",
       "0  Creole House Restaurant & Oyster Bar   \n",
       "1  Creole House Restaurant & Oyster Bar   \n",
       "\n",
       "                                                text  restaurant_avg_star  \\\n",
       "0  Service was crappy, and food was mediocre.  I ...                  4.0   \n",
       "1  Enjoyed my fish out at a sidewalk table.  A bi...                  4.0   \n",
       "\n",
       "   review_count  avg_stars10m_radius  \n",
       "0          1594              4.05814  \n",
       "1          1594              4.05814  "
      ]
     },
     "execution_count": 12,
     "metadata": {},
     "output_type": "execute_result"
    }
   ],
   "source": [
    "df = df[['review_id','business_id', 'stars','name','text','restaurant_avg_star','review_count','avg_stars10m_radius']]\n",
    "df.head(2)"
   ]
  },
  {
   "cell_type": "markdown",
   "id": "3a202e4d",
   "metadata": {},
   "source": [
    "# Preprocess - Clean Text\n"
   ]
  },
  {
   "cell_type": "code",
   "execution_count": null,
   "id": "d0e31f65",
   "metadata": {},
   "outputs": [],
   "source": [
    "def remove_punctuation(text):\n",
    "    return \"\".join(char for char in text if not char in string.punctuation)\n",
    "preprocessed_stopwords= [remove_punctuation(word) for word in stopwords.words('english')]\n",
    "\n",
    "def preprocessing(sentence):\n",
    "    # remove whitespace\n",
    "    t1 = sentence.strip()\n",
    "    # lowercase characters\n",
    "    t2 = t1.lower()\n",
    "    # remove numbers\n",
    "    \n",
    "    t3 = ''.join(char for char in t2 if not char.isdigit())\n",
    "    # remove punctuation\n",
    "    t4 = \"\".join(char for char in t3 if not char in string.punctuation)\n",
    "    # tokenize\n",
    "    tokens = t4.split(\" \")\n",
    "    # lemmatize\n",
    "    stopwords_removed = [\n",
    "        word for word in tokens if word not in preprocessed_stopwords\n",
    "    ]\n",
    "    return \" \".join(stopwords_removed)\n",
    "\n",
    "# Clean reviews\n",
    "df['clean_text'] = df['text'].apply(preprocessing)"
   ]
  },
  {
   "cell_type": "code",
   "execution_count": null,
   "id": "d2253c3f",
   "metadata": {},
   "outputs": [],
   "source": [
    "df.head(2)"
   ]
  },
  {
   "cell_type": "markdown",
   "id": "1ecbb6e9",
   "metadata": {},
   "source": [
    "# Pick Top 10 Restaurants and Export to CSV"
   ]
  },
  {
   "cell_type": "code",
   "execution_count": null,
   "id": "33473b4d",
   "metadata": {},
   "outputs": [],
   "source": [
    "review_counts = df['business_id'].value_counts().reset_index(name='review_count')\n",
    "review_counts.columns = ['business_id', 'review_count']\n",
    "\n",
    "top_10_business_ids = review_counts.head(10)['business_id']\n",
    "\n",
    "df_top10 = df[df['business_id'].isin(top_10_business_ids)]\n",
    "\n",
    "df_top10.head(2)"
   ]
  },
  {
   "cell_type": "code",
   "execution_count": null,
   "id": "2e44469e",
   "metadata": {},
   "outputs": [],
   "source": [
    "df_top10.to_csv('notebooks/csv/df_top10.csv', index=False)"
   ]
  },
  {
   "cell_type": "markdown",
   "id": "20f404b2",
   "metadata": {},
   "source": [
    "# Preprocess - Vectorize"
   ]
  },
  {
   "cell_type": "code",
   "execution_count": null,
   "id": "7f85bb64",
   "metadata": {},
   "outputs": [],
   "source": [
    "vectorizer = TfidfVectorizer(ngram_range=(1,3))\n",
    "vectorized_text = vectorizer.fit_transform(df_top10['clean_text'])\n",
    "vectorized_text = pd.DataFrame(\n",
    "    vectorized_text.toarray(),\n",
    "    columns = vectorizer.get_feature_names_out()\n",
    ")"
   ]
  },
  {
   "cell_type": "code",
   "execution_count": null,
   "id": "882c9ef2",
   "metadata": {},
   "outputs": [],
   "source": []
  },
  {
   "cell_type": "code",
   "execution_count": null,
   "id": "6caee12e",
   "metadata": {},
   "outputs": [],
   "source": []
  },
  {
   "cell_type": "code",
   "execution_count": null,
   "id": "03b6bedb",
   "metadata": {},
   "outputs": [],
   "source": []
  }
 ],
 "metadata": {
  "kernelspec": {
   "display_name": "Python 3 (ipykernel)",
   "language": "python",
   "name": "python3"
  },
  "language_info": {
   "codemirror_mode": {
    "name": "ipython",
    "version": 3
   },
   "file_extension": ".py",
   "mimetype": "text/x-python",
   "name": "python",
   "nbconvert_exporter": "python",
   "pygments_lexer": "ipython3",
   "version": "3.10.6"
  },
  "toc": {
   "base_numbering": 1,
   "nav_menu": {},
   "number_sections": true,
   "sideBar": true,
   "skip_h1_title": false,
   "title_cell": "Table of Contents",
   "title_sidebar": "Contents",
   "toc_cell": false,
   "toc_position": {},
   "toc_section_display": true,
   "toc_window_display": false
  }
 },
 "nbformat": 4,
 "nbformat_minor": 5
}
