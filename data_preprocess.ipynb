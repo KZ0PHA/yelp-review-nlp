{
 "cells": [
  {
   "cell_type": "code",
   "execution_count": 1,
   "id": "05258b5b",
   "metadata": {},
   "outputs": [],
   "source": [
    "import pandas as pd\n",
    "import string\n",
    "from nltk.corpus import stopwords\n",
    "from nltk import word_tokenize\n",
    "from nltk.stem import WordNetLemmatizer\n",
    "from sklearn.feature_extraction.text import TfidfVectorizer\n",
    "import streamlit as st"
   ]
  },
  {
   "cell_type": "markdown",
   "id": "e24c79c8",
   "metadata": {},
   "source": [
    "# Download the raw data from Yelp"
   ]
  },
  {
   "cell_type": "markdown",
   "id": "89de741a",
   "metadata": {},
   "source": [
    "URL: https://www.yelp.com/dataset/download\n",
    "        \n",
    "The total file size is 4GB. "
   ]
  },
  {
   "cell_type": "markdown",
   "id": "b234fe11",
   "metadata": {},
   "source": [
    "# Import raw data (json) and convert into CSV"
   ]
  },
  {
   "cell_type": "markdown",
   "id": "f74fa0bd",
   "metadata": {},
   "source": [
    "It takes 5 minutes to run"
   ]
  },
  {
   "cell_type": "code",
   "execution_count": 10,
   "id": "b344f52e",
   "metadata": {},
   "outputs": [],
   "source": [
    "import json\n",
    "\n",
    "def conv_json_to_csv(inFile, outFile):\n",
    "    with open(inFile) as f:\n",
    "        data = []\n",
    "        for line in f:\n",
    "            if line.strip():  # Check if the line is not empty\n",
    "                obj = json.loads(line)\n",
    "                data.append(obj)\n",
    "\n",
    "    # Open the CSV file in write mode\n",
    "    with open(outFile, 'w', newline='') as file:\n",
    "        fieldnames = data[0].keys()\n",
    "        writer = csv.DictWriter(file, fieldnames=fieldnames)\n",
    "\n",
    "        # Write the header row\n",
    "        writer.writeheader()\n",
    "\n",
    "        # Write the data rows\n",
    "        writer.writerows(data)\n",
    "        \n",
    "conv_json_to_csv('raw_data/yelp_academic_dataset_review.json', 'notebooks/csv/yelp_review.csv')\n",
    "conv_json_to_csv('raw_data/yelp_academic_dataset_business.json', 'notebooks/csv/yelp_business.csv')"
   ]
  },
  {
   "cell_type": "markdown",
   "id": "dce437b9",
   "metadata": {},
   "source": [
    "# Create the dataframes (Business / Review / Rene)"
   ]
  },
  {
   "cell_type": "code",
   "execution_count": 8,
   "id": "dcd25899",
   "metadata": {},
   "outputs": [],
   "source": [
    "df_business = pd.read_csv('notebooks/csv/yelp_business.csv')\n",
    "\n",
    "# Ask Sophia to get the CSV file\n",
    "df_review = pd.read_csv('notebooks/csv/new_orleans_reviews.csv')\n",
    "\n",
    "# Ask Rene to get the CSV file\n",
    "df_rene = pd.read_csv('notebooks/csv/avg_stars10m_radius.csv')"
   ]
  },
  {
   "cell_type": "markdown",
   "id": "65a4dcfd",
   "metadata": {},
   "source": [
    "# Combine the 3 Tables into 1"
   ]
  },
  {
   "cell_type": "markdown",
   "id": "f2917e89",
   "metadata": {},
   "source": [
    "## Combine df_business & df_rene"
   ]
  },
  {
   "cell_type": "code",
   "execution_count": 9,
   "id": "462e9da1",
   "metadata": {},
   "outputs": [
    {
     "data": {
      "text/html": [
       "<div>\n",
       "<style scoped>\n",
       "    .dataframe tbody tr th:only-of-type {\n",
       "        vertical-align: middle;\n",
       "    }\n",
       "\n",
       "    .dataframe tbody tr th {\n",
       "        vertical-align: top;\n",
       "    }\n",
       "\n",
       "    .dataframe thead th {\n",
       "        text-align: right;\n",
       "    }\n",
       "</style>\n",
       "<table border=\"1\" class=\"dataframe\">\n",
       "  <thead>\n",
       "    <tr style=\"text-align: right;\">\n",
       "      <th></th>\n",
       "      <th>business_id</th>\n",
       "      <th>stars</th>\n",
       "      <th>name</th>\n",
       "      <th>review_count</th>\n",
       "      <th>categories</th>\n",
       "    </tr>\n",
       "  </thead>\n",
       "  <tbody>\n",
       "    <tr>\n",
       "      <th>0</th>\n",
       "      <td>Pns2l4eNsfO8kk83dixA6A</td>\n",
       "      <td>5.0</td>\n",
       "      <td>Abby Rappoport, LAC, CMQ</td>\n",
       "      <td>7</td>\n",
       "      <td>Doctors, Traditional Chinese Medicine, Naturop...</td>\n",
       "    </tr>\n",
       "    <tr>\n",
       "      <th>1</th>\n",
       "      <td>mpf3x-BjTdTEA3yCZrAYPw</td>\n",
       "      <td>3.0</td>\n",
       "      <td>The UPS Store</td>\n",
       "      <td>15</td>\n",
       "      <td>Shipping Centers, Local Services, Notaries, Ma...</td>\n",
       "    </tr>\n",
       "  </tbody>\n",
       "</table>\n",
       "</div>"
      ],
      "text/plain": [
       "              business_id  stars                      name  review_count  \\\n",
       "0  Pns2l4eNsfO8kk83dixA6A    5.0  Abby Rappoport, LAC, CMQ             7   \n",
       "1  mpf3x-BjTdTEA3yCZrAYPw    3.0             The UPS Store            15   \n",
       "\n",
       "                                          categories  \n",
       "0  Doctors, Traditional Chinese Medicine, Naturop...  \n",
       "1  Shipping Centers, Local Services, Notaries, Ma...  "
      ]
     },
     "execution_count": 9,
     "metadata": {},
     "output_type": "execute_result"
    }
   ],
   "source": [
    "df_business = df_business[['business_id', 'stars','name','review_count','categories']]\n",
    "df_business.head(2)"
   ]
  },
  {
   "cell_type": "code",
   "execution_count": 10,
   "id": "8e4ee675",
   "metadata": {},
   "outputs": [
    {
     "data": {
      "text/html": [
       "<div>\n",
       "<style scoped>\n",
       "    .dataframe tbody tr th:only-of-type {\n",
       "        vertical-align: middle;\n",
       "    }\n",
       "\n",
       "    .dataframe tbody tr th {\n",
       "        vertical-align: top;\n",
       "    }\n",
       "\n",
       "    .dataframe thead th {\n",
       "        text-align: right;\n",
       "    }\n",
       "</style>\n",
       "<table border=\"1\" class=\"dataframe\">\n",
       "  <thead>\n",
       "    <tr style=\"text-align: right;\">\n",
       "      <th></th>\n",
       "      <th>business_id</th>\n",
       "      <th>avg_stars10m_radius</th>\n",
       "    </tr>\n",
       "  </thead>\n",
       "  <tbody>\n",
       "    <tr>\n",
       "      <th>0</th>\n",
       "      <td>-0TffRSXXIlBYVbb5AwfTg</td>\n",
       "      <td>4.016129</td>\n",
       "    </tr>\n",
       "    <tr>\n",
       "      <th>1</th>\n",
       "      <td>-FM4CxOg4XXmX_Ebky_SiQ</td>\n",
       "      <td>4.192308</td>\n",
       "    </tr>\n",
       "  </tbody>\n",
       "</table>\n",
       "</div>"
      ],
      "text/plain": [
       "              business_id  avg_stars10m_radius\n",
       "0  -0TffRSXXIlBYVbb5AwfTg             4.016129\n",
       "1  -FM4CxOg4XXmX_Ebky_SiQ             4.192308"
      ]
     },
     "execution_count": 10,
     "metadata": {},
     "output_type": "execute_result"
    }
   ],
   "source": [
    "df_rene = df_rene[[\"business_id\",\"avg_stars10m_radius\"]]\n",
    "df_rene.head(2)"
   ]
  },
  {
   "cell_type": "code",
   "execution_count": 11,
   "id": "6336f3d1",
   "metadata": {},
   "outputs": [
    {
     "data": {
      "text/html": [
       "<div>\n",
       "<style scoped>\n",
       "    .dataframe tbody tr th:only-of-type {\n",
       "        vertical-align: middle;\n",
       "    }\n",
       "\n",
       "    .dataframe tbody tr th {\n",
       "        vertical-align: top;\n",
       "    }\n",
       "\n",
       "    .dataframe thead th {\n",
       "        text-align: right;\n",
       "    }\n",
       "</style>\n",
       "<table border=\"1\" class=\"dataframe\">\n",
       "  <thead>\n",
       "    <tr style=\"text-align: right;\">\n",
       "      <th></th>\n",
       "      <th>business_id</th>\n",
       "      <th>stars</th>\n",
       "      <th>name</th>\n",
       "      <th>review_count</th>\n",
       "      <th>categories</th>\n",
       "      <th>avg_stars10m_radius</th>\n",
       "    </tr>\n",
       "  </thead>\n",
       "  <tbody>\n",
       "    <tr>\n",
       "      <th>0</th>\n",
       "      <td>SZU9c8V2GuREDN5KgyHFJw</td>\n",
       "      <td>4.0</td>\n",
       "      <td>Santa Barbara Shellfish Company</td>\n",
       "      <td>2404</td>\n",
       "      <td>Live/Raw Food, Restaurants, Seafood, Beer Bar,...</td>\n",
       "      <td>4.192308</td>\n",
       "    </tr>\n",
       "    <tr>\n",
       "      <th>1</th>\n",
       "      <td>ORL4JE6tz3rJxVqkdKfegA</td>\n",
       "      <td>3.0</td>\n",
       "      <td>Gaylord Opryland Resort &amp; Convention Center</td>\n",
       "      <td>1639</td>\n",
       "      <td>Venues &amp; Event Spaces, Performing Arts, Arts &amp;...</td>\n",
       "      <td>4.166667</td>\n",
       "    </tr>\n",
       "  </tbody>\n",
       "</table>\n",
       "</div>"
      ],
      "text/plain": [
       "              business_id  stars                                         name  \\\n",
       "0  SZU9c8V2GuREDN5KgyHFJw    4.0              Santa Barbara Shellfish Company   \n",
       "1  ORL4JE6tz3rJxVqkdKfegA    3.0  Gaylord Opryland Resort & Convention Center   \n",
       "\n",
       "   review_count                                         categories  \\\n",
       "0          2404  Live/Raw Food, Restaurants, Seafood, Beer Bar,...   \n",
       "1          1639  Venues & Event Spaces, Performing Arts, Arts &...   \n",
       "\n",
       "   avg_stars10m_radius  \n",
       "0             4.192308  \n",
       "1             4.166667  "
      ]
     },
     "execution_count": 11,
     "metadata": {},
     "output_type": "execute_result"
    }
   ],
   "source": [
    "df_business = pd.merge(df_business, df_rene, on='business_id', how='inner')\n",
    "df_business.head(2)"
   ]
  },
  {
   "cell_type": "markdown",
   "id": "6d9f9d69",
   "metadata": {},
   "source": [
    "## Combine df_review & df_business"
   ]
  },
  {
   "cell_type": "code",
   "execution_count": 14,
   "id": "3d49fc09",
   "metadata": {},
   "outputs": [
    {
     "data": {
      "text/html": [
       "<div>\n",
       "<style scoped>\n",
       "    .dataframe tbody tr th:only-of-type {\n",
       "        vertical-align: middle;\n",
       "    }\n",
       "\n",
       "    .dataframe tbody tr th {\n",
       "        vertical-align: top;\n",
       "    }\n",
       "\n",
       "    .dataframe thead th {\n",
       "        text-align: right;\n",
       "    }\n",
       "</style>\n",
       "<table border=\"1\" class=\"dataframe\">\n",
       "  <thead>\n",
       "    <tr style=\"text-align: right;\">\n",
       "      <th></th>\n",
       "      <th>review_id</th>\n",
       "      <th>user_id</th>\n",
       "      <th>business_id</th>\n",
       "      <th>stars</th>\n",
       "      <th>useful</th>\n",
       "      <th>funny</th>\n",
       "      <th>cool</th>\n",
       "      <th>text</th>\n",
       "      <th>date</th>\n",
       "      <th>restaurant_avg_star</th>\n",
       "      <th>name</th>\n",
       "      <th>review_count</th>\n",
       "      <th>categories</th>\n",
       "      <th>avg_stars10m_radius</th>\n",
       "    </tr>\n",
       "  </thead>\n",
       "  <tbody>\n",
       "    <tr>\n",
       "      <th>0</th>\n",
       "      <td>z0osLHDvXvzfm57D4DmD2Q</td>\n",
       "      <td>xVKE_HJ2pwUtTdLbL3pnCg</td>\n",
       "      <td>S2Ho8yLxhKAa26pBAm6rxA</td>\n",
       "      <td>3.0</td>\n",
       "      <td>0</td>\n",
       "      <td>0</td>\n",
       "      <td>0</td>\n",
       "      <td>Service was crappy, and food was mediocre.  I ...</td>\n",
       "      <td>2016-11-22 00:22:53</td>\n",
       "      <td>4.0</td>\n",
       "      <td>Creole House Restaurant &amp; Oyster Bar</td>\n",
       "      <td>1594</td>\n",
       "      <td>Cajun/Creole, Seafood, Restaurants, Breakfast ...</td>\n",
       "      <td>4.05814</td>\n",
       "    </tr>\n",
       "    <tr>\n",
       "      <th>1</th>\n",
       "      <td>tXHWJWnTdrraHGUqaPWj3g</td>\n",
       "      <td>zKAHSNzqvwsyoFCw3QpafA</td>\n",
       "      <td>S2Ho8yLxhKAa26pBAm6rxA</td>\n",
       "      <td>4.0</td>\n",
       "      <td>0</td>\n",
       "      <td>0</td>\n",
       "      <td>0</td>\n",
       "      <td>Enjoyed my fish out at a sidewalk table.  A bi...</td>\n",
       "      <td>2018-05-19 01:14:05</td>\n",
       "      <td>4.0</td>\n",
       "      <td>Creole House Restaurant &amp; Oyster Bar</td>\n",
       "      <td>1594</td>\n",
       "      <td>Cajun/Creole, Seafood, Restaurants, Breakfast ...</td>\n",
       "      <td>4.05814</td>\n",
       "    </tr>\n",
       "  </tbody>\n",
       "</table>\n",
       "</div>"
      ],
      "text/plain": [
       "                review_id                 user_id             business_id  \\\n",
       "0  z0osLHDvXvzfm57D4DmD2Q  xVKE_HJ2pwUtTdLbL3pnCg  S2Ho8yLxhKAa26pBAm6rxA   \n",
       "1  tXHWJWnTdrraHGUqaPWj3g  zKAHSNzqvwsyoFCw3QpafA  S2Ho8yLxhKAa26pBAm6rxA   \n",
       "\n",
       "   stars  useful  funny  cool  \\\n",
       "0    3.0       0      0     0   \n",
       "1    4.0       0      0     0   \n",
       "\n",
       "                                                text                 date  \\\n",
       "0  Service was crappy, and food was mediocre.  I ...  2016-11-22 00:22:53   \n",
       "1  Enjoyed my fish out at a sidewalk table.  A bi...  2018-05-19 01:14:05   \n",
       "\n",
       "   restaurant_avg_star                                  name  review_count  \\\n",
       "0                  4.0  Creole House Restaurant & Oyster Bar          1594   \n",
       "1                  4.0  Creole House Restaurant & Oyster Bar          1594   \n",
       "\n",
       "                                          categories  avg_stars10m_radius  \n",
       "0  Cajun/Creole, Seafood, Restaurants, Breakfast ...              4.05814  \n",
       "1  Cajun/Creole, Seafood, Restaurants, Breakfast ...              4.05814  "
      ]
     },
     "execution_count": 14,
     "metadata": {},
     "output_type": "execute_result"
    }
   ],
   "source": [
    "df_review_business = pd.merge(df_review, df_business, on='business_id', how='inner')\n",
    "df_review_business = df_review_business.rename(columns={'stars_x': 'stars'})\n",
    "df_review_business = df_review_business.rename(columns={'stars_y': 'restaurant_avg_star'})\n",
    "df_review_business.head(2)"
   ]
  },
  {
   "cell_type": "code",
   "execution_count": 15,
   "id": "5af71ec9",
   "metadata": {},
   "outputs": [
    {
     "data": {
      "text/html": [
       "<div>\n",
       "<style scoped>\n",
       "    .dataframe tbody tr th:only-of-type {\n",
       "        vertical-align: middle;\n",
       "    }\n",
       "\n",
       "    .dataframe tbody tr th {\n",
       "        vertical-align: top;\n",
       "    }\n",
       "\n",
       "    .dataframe thead th {\n",
       "        text-align: right;\n",
       "    }\n",
       "</style>\n",
       "<table border=\"1\" class=\"dataframe\">\n",
       "  <thead>\n",
       "    <tr style=\"text-align: right;\">\n",
       "      <th></th>\n",
       "      <th>review_id</th>\n",
       "      <th>business_id</th>\n",
       "      <th>stars</th>\n",
       "      <th>name</th>\n",
       "      <th>text</th>\n",
       "      <th>restaurant_avg_star</th>\n",
       "      <th>review_count</th>\n",
       "      <th>avg_stars10m_radius</th>\n",
       "    </tr>\n",
       "  </thead>\n",
       "  <tbody>\n",
       "    <tr>\n",
       "      <th>0</th>\n",
       "      <td>z0osLHDvXvzfm57D4DmD2Q</td>\n",
       "      <td>S2Ho8yLxhKAa26pBAm6rxA</td>\n",
       "      <td>3.0</td>\n",
       "      <td>Creole House Restaurant &amp; Oyster Bar</td>\n",
       "      <td>Service was crappy, and food was mediocre.  I ...</td>\n",
       "      <td>4.0</td>\n",
       "      <td>1594</td>\n",
       "      <td>4.05814</td>\n",
       "    </tr>\n",
       "    <tr>\n",
       "      <th>1</th>\n",
       "      <td>tXHWJWnTdrraHGUqaPWj3g</td>\n",
       "      <td>S2Ho8yLxhKAa26pBAm6rxA</td>\n",
       "      <td>4.0</td>\n",
       "      <td>Creole House Restaurant &amp; Oyster Bar</td>\n",
       "      <td>Enjoyed my fish out at a sidewalk table.  A bi...</td>\n",
       "      <td>4.0</td>\n",
       "      <td>1594</td>\n",
       "      <td>4.05814</td>\n",
       "    </tr>\n",
       "  </tbody>\n",
       "</table>\n",
       "</div>"
      ],
      "text/plain": [
       "                review_id             business_id  stars  \\\n",
       "0  z0osLHDvXvzfm57D4DmD2Q  S2Ho8yLxhKAa26pBAm6rxA    3.0   \n",
       "1  tXHWJWnTdrraHGUqaPWj3g  S2Ho8yLxhKAa26pBAm6rxA    4.0   \n",
       "\n",
       "                                   name  \\\n",
       "0  Creole House Restaurant & Oyster Bar   \n",
       "1  Creole House Restaurant & Oyster Bar   \n",
       "\n",
       "                                                text  restaurant_avg_star  \\\n",
       "0  Service was crappy, and food was mediocre.  I ...                  4.0   \n",
       "1  Enjoyed my fish out at a sidewalk table.  A bi...                  4.0   \n",
       "\n",
       "   review_count  avg_stars10m_radius  \n",
       "0          1594              4.05814  \n",
       "1          1594              4.05814  "
      ]
     },
     "execution_count": 15,
     "metadata": {},
     "output_type": "execute_result"
    }
   ],
   "source": [
    "df_review_business = df_review_business[['review_id','business_id', 'stars','name','text','restaurant_avg_star','review_count','avg_stars10m_radius']]\n",
    "df_review_business.head(2)"
   ]
  },
  {
   "cell_type": "markdown",
   "id": "3679e68a",
   "metadata": {},
   "source": [
    "# Pick Top 10 Restaurants\n"
   ]
  },
  {
   "cell_type": "markdown",
   "id": "50a29ad6",
   "metadata": {},
   "source": [
    "## df_review_top10"
   ]
  },
  {
   "cell_type": "code",
   "execution_count": 17,
   "id": "34219dd3",
   "metadata": {},
   "outputs": [
    {
     "data": {
      "text/plain": [
       "(52968, 8)"
      ]
     },
     "execution_count": 17,
     "metadata": {},
     "output_type": "execute_result"
    }
   ],
   "source": [
    "review_counts = df_review_business['business_id'].value_counts().reset_index(name='review_count')\n",
    "review_counts.columns = ['business_id', 'review_count']\n",
    "\n",
    "top_10_business_ids = review_counts.head(10)['business_id']\n",
    "\n",
    "df_review_top10 = df_review_business[df_review_business['business_id'].isin(top_10_business_ids)]\n",
    "\n",
    "df_review_top10.shape"
   ]
  },
  {
   "cell_type": "code",
   "execution_count": 18,
   "id": "452a798c",
   "metadata": {},
   "outputs": [
    {
     "data": {
      "text/html": [
       "<div>\n",
       "<style scoped>\n",
       "    .dataframe tbody tr th:only-of-type {\n",
       "        vertical-align: middle;\n",
       "    }\n",
       "\n",
       "    .dataframe tbody tr th {\n",
       "        vertical-align: top;\n",
       "    }\n",
       "\n",
       "    .dataframe thead th {\n",
       "        text-align: right;\n",
       "    }\n",
       "</style>\n",
       "<table border=\"1\" class=\"dataframe\">\n",
       "  <thead>\n",
       "    <tr style=\"text-align: right;\">\n",
       "      <th></th>\n",
       "      <th>review_id</th>\n",
       "      <th>business_id</th>\n",
       "      <th>stars</th>\n",
       "      <th>name</th>\n",
       "      <th>text</th>\n",
       "      <th>restaurant_avg_star</th>\n",
       "      <th>review_count</th>\n",
       "      <th>avg_stars10m_radius</th>\n",
       "    </tr>\n",
       "  </thead>\n",
       "  <tbody>\n",
       "    <tr>\n",
       "      <th>7987</th>\n",
       "      <td>yyrMqY7sNp5gT7KJ1AaYWA</td>\n",
       "      <td>GBTPC53ZrG1ZBY3DT8Mbcw</td>\n",
       "      <td>4.0</td>\n",
       "      <td>Luke</td>\n",
       "      <td>We have been here twice for brunch and have en...</td>\n",
       "      <td>4.0</td>\n",
       "      <td>4554</td>\n",
       "      <td>4.05814</td>\n",
       "    </tr>\n",
       "    <tr>\n",
       "      <th>7988</th>\n",
       "      <td>wEfzqOfbwn4Ohe2ZDOLAzw</td>\n",
       "      <td>GBTPC53ZrG1ZBY3DT8Mbcw</td>\n",
       "      <td>4.0</td>\n",
       "      <td>Luke</td>\n",
       "      <td>First meal in New Orleans. I had the $15 lunch...</td>\n",
       "      <td>4.0</td>\n",
       "      <td>4554</td>\n",
       "      <td>4.05814</td>\n",
       "    </tr>\n",
       "  </tbody>\n",
       "</table>\n",
       "</div>"
      ],
      "text/plain": [
       "                   review_id             business_id  stars  name  \\\n",
       "7987  yyrMqY7sNp5gT7KJ1AaYWA  GBTPC53ZrG1ZBY3DT8Mbcw    4.0  Luke   \n",
       "7988  wEfzqOfbwn4Ohe2ZDOLAzw  GBTPC53ZrG1ZBY3DT8Mbcw    4.0  Luke   \n",
       "\n",
       "                                                   text  restaurant_avg_star  \\\n",
       "7987  We have been here twice for brunch and have en...                  4.0   \n",
       "7988  First meal in New Orleans. I had the $15 lunch...                  4.0   \n",
       "\n",
       "      review_count  avg_stars10m_radius  \n",
       "7987          4554              4.05814  \n",
       "7988          4554              4.05814  "
      ]
     },
     "execution_count": 18,
     "metadata": {},
     "output_type": "execute_result"
    }
   ],
   "source": [
    "df_review_top10.head(2)"
   ]
  },
  {
   "cell_type": "code",
   "execution_count": 24,
   "id": "1994c980",
   "metadata": {},
   "outputs": [
    {
     "data": {
      "text/plain": [
       "array(['Luke', 'Gumbo Shop', \"Commander's Palace\", 'Royal House',\n",
       "       \"Felix's Restaurant & Oyster Bar\", 'Cochon', \"Mother's Restaurant\",\n",
       "       'Oceana Grill', 'Acme Oyster House', 'Ruby Slipper - New Orleans'],\n",
       "      dtype=object)"
      ]
     },
     "execution_count": 24,
     "metadata": {},
     "output_type": "execute_result"
    }
   ],
   "source": [
    "top10_restaurants = df_review_top10['name'].unique()\n",
    "top10_restaurants"
   ]
  },
  {
   "cell_type": "markdown",
   "id": "7025a9c0",
   "metadata": {},
   "source": [
    "## df_business_top10"
   ]
  },
  {
   "cell_type": "code",
   "execution_count": 30,
   "id": "d1d48026",
   "metadata": {},
   "outputs": [
    {
     "data": {
      "text/html": [
       "<div>\n",
       "<style scoped>\n",
       "    .dataframe tbody tr th:only-of-type {\n",
       "        vertical-align: middle;\n",
       "    }\n",
       "\n",
       "    .dataframe tbody tr th {\n",
       "        vertical-align: top;\n",
       "    }\n",
       "\n",
       "    .dataframe thead th {\n",
       "        text-align: right;\n",
       "    }\n",
       "</style>\n",
       "<table border=\"1\" class=\"dataframe\">\n",
       "  <thead>\n",
       "    <tr style=\"text-align: right;\">\n",
       "      <th></th>\n",
       "      <th>business_id</th>\n",
       "      <th>stars</th>\n",
       "      <th>name</th>\n",
       "      <th>review_count</th>\n",
       "      <th>categories</th>\n",
       "      <th>avg_stars10m_radius</th>\n",
       "    </tr>\n",
       "  </thead>\n",
       "  <tbody>\n",
       "    <tr>\n",
       "      <th>11</th>\n",
       "      <td>GBTPC53ZrG1ZBY3DT8Mbcw</td>\n",
       "      <td>4.0</td>\n",
       "      <td>Luke</td>\n",
       "      <td>4554</td>\n",
       "      <td>German, Restaurants, Seafood, Cocktail Bars, F...</td>\n",
       "      <td>4.05814</td>\n",
       "    </tr>\n",
       "    <tr>\n",
       "      <th>73</th>\n",
       "      <td>VQcCL9PiNL_wkGf-uF3fjg</td>\n",
       "      <td>4.0</td>\n",
       "      <td>Royal House</td>\n",
       "      <td>5070</td>\n",
       "      <td>American (New), Restaurants, Sandwiches, Seafo...</td>\n",
       "      <td>4.05814</td>\n",
       "    </tr>\n",
       "    <tr>\n",
       "      <th>75</th>\n",
       "      <td>_C7QiQQc47AOEv4PE3Kong</td>\n",
       "      <td>4.5</td>\n",
       "      <td>Commander's Palace</td>\n",
       "      <td>4876</td>\n",
       "      <td>French, Restaurants, Cocktail Bars, Nightlife,...</td>\n",
       "      <td>4.05814</td>\n",
       "    </tr>\n",
       "    <tr>\n",
       "      <th>96</th>\n",
       "      <td>qb28j-FNX1_6xm7u372TZA</td>\n",
       "      <td>4.0</td>\n",
       "      <td>Gumbo Shop</td>\n",
       "      <td>3902</td>\n",
       "      <td>Cajun/Creole, Seafood, Restaurants</td>\n",
       "      <td>4.05814</td>\n",
       "    </tr>\n",
       "    <tr>\n",
       "      <th>130</th>\n",
       "      <td>VaO-VW3e1kARkU9bP1E7Fw</td>\n",
       "      <td>4.0</td>\n",
       "      <td>Felix's Restaurant &amp; Oyster Bar</td>\n",
       "      <td>3966</td>\n",
       "      <td>Restaurants, Sandwiches, Seafood, Cajun/Creole</td>\n",
       "      <td>4.05814</td>\n",
       "    </tr>\n",
       "    <tr>\n",
       "      <th>182</th>\n",
       "      <td>6a4gLLFSgr-Q6CZXDLzBGQ</td>\n",
       "      <td>4.0</td>\n",
       "      <td>Cochon</td>\n",
       "      <td>4421</td>\n",
       "      <td>Cajun/Creole, Seafood, Restaurants</td>\n",
       "      <td>4.05814</td>\n",
       "    </tr>\n",
       "    <tr>\n",
       "      <th>187</th>\n",
       "      <td>iSRTaT9WngzB8JJ2YKJUig</td>\n",
       "      <td>3.5</td>\n",
       "      <td>Mother's Restaurant</td>\n",
       "      <td>5185</td>\n",
       "      <td>Cajun/Creole, Restaurants, Event Planning &amp; Se...</td>\n",
       "      <td>4.05814</td>\n",
       "    </tr>\n",
       "    <tr>\n",
       "      <th>215</th>\n",
       "      <td>ac1AeYqs8Z4_e2X5M3if2A</td>\n",
       "      <td>4.0</td>\n",
       "      <td>Oceana Grill</td>\n",
       "      <td>7400</td>\n",
       "      <td>Restaurants, Seafood, Cajun/Creole, Breakfast ...</td>\n",
       "      <td>4.05814</td>\n",
       "    </tr>\n",
       "    <tr>\n",
       "      <th>218</th>\n",
       "      <td>_ab50qdWOk0DdB6XOrBitw</td>\n",
       "      <td>4.0</td>\n",
       "      <td>Acme Oyster House</td>\n",
       "      <td>7568</td>\n",
       "      <td>Live/Raw Food, Seafood, Restaurants, Cajun/Creole</td>\n",
       "      <td>4.05814</td>\n",
       "    </tr>\n",
       "    <tr>\n",
       "      <th>294</th>\n",
       "      <td>oBNrLz4EDhiscSlbOl8uAw</td>\n",
       "      <td>4.5</td>\n",
       "      <td>Ruby Slipper - New Orleans</td>\n",
       "      <td>5193</td>\n",
       "      <td>Restaurants, American (Traditional), American ...</td>\n",
       "      <td>4.05814</td>\n",
       "    </tr>\n",
       "  </tbody>\n",
       "</table>\n",
       "</div>"
      ],
      "text/plain": [
       "                business_id  stars                             name  \\\n",
       "11   GBTPC53ZrG1ZBY3DT8Mbcw    4.0                             Luke   \n",
       "73   VQcCL9PiNL_wkGf-uF3fjg    4.0                      Royal House   \n",
       "75   _C7QiQQc47AOEv4PE3Kong    4.5               Commander's Palace   \n",
       "96   qb28j-FNX1_6xm7u372TZA    4.0                       Gumbo Shop   \n",
       "130  VaO-VW3e1kARkU9bP1E7Fw    4.0  Felix's Restaurant & Oyster Bar   \n",
       "182  6a4gLLFSgr-Q6CZXDLzBGQ    4.0                           Cochon   \n",
       "187  iSRTaT9WngzB8JJ2YKJUig    3.5              Mother's Restaurant   \n",
       "215  ac1AeYqs8Z4_e2X5M3if2A    4.0                     Oceana Grill   \n",
       "218  _ab50qdWOk0DdB6XOrBitw    4.0                Acme Oyster House   \n",
       "294  oBNrLz4EDhiscSlbOl8uAw    4.5       Ruby Slipper - New Orleans   \n",
       "\n",
       "     review_count                                         categories  \\\n",
       "11           4554  German, Restaurants, Seafood, Cocktail Bars, F...   \n",
       "73           5070  American (New), Restaurants, Sandwiches, Seafo...   \n",
       "75           4876  French, Restaurants, Cocktail Bars, Nightlife,...   \n",
       "96           3902                 Cajun/Creole, Seafood, Restaurants   \n",
       "130          3966     Restaurants, Sandwiches, Seafood, Cajun/Creole   \n",
       "182          4421                 Cajun/Creole, Seafood, Restaurants   \n",
       "187          5185  Cajun/Creole, Restaurants, Event Planning & Se...   \n",
       "215          7400  Restaurants, Seafood, Cajun/Creole, Breakfast ...   \n",
       "218          7568  Live/Raw Food, Seafood, Restaurants, Cajun/Creole   \n",
       "294          5193  Restaurants, American (Traditional), American ...   \n",
       "\n",
       "     avg_stars10m_radius  \n",
       "11               4.05814  \n",
       "73               4.05814  \n",
       "75               4.05814  \n",
       "96               4.05814  \n",
       "130              4.05814  \n",
       "182              4.05814  \n",
       "187              4.05814  \n",
       "215              4.05814  \n",
       "218              4.05814  \n",
       "294              4.05814  "
      ]
     },
     "execution_count": 30,
     "metadata": {},
     "output_type": "execute_result"
    }
   ],
   "source": [
    "df_business_top10 = df_business[df_business['name'].isin(top10_restaurants)]\n",
    "df_business_top10.head(10)"
   ]
  },
  {
   "cell_type": "markdown",
   "id": "3a202e4d",
   "metadata": {},
   "source": [
    "# Preprocess - Clean Text\n"
   ]
  },
  {
   "cell_type": "code",
   "execution_count": 31,
   "id": "d0e31f65",
   "metadata": {},
   "outputs": [
    {
     "name": "stderr",
     "output_type": "stream",
     "text": [
      "/var/folders/_n/cr9xqtgn70g_tclcyk9hd0nw0000gn/T/ipykernel_19520/3519110220.py:24: SettingWithCopyWarning: \n",
      "A value is trying to be set on a copy of a slice from a DataFrame.\n",
      "Try using .loc[row_indexer,col_indexer] = value instead\n",
      "\n",
      "See the caveats in the documentation: https://pandas.pydata.org/pandas-docs/stable/user_guide/indexing.html#returning-a-view-versus-a-copy\n",
      "  df_review_top10['clean_text'] = df_review_top10['text'].apply(preprocessing)\n"
     ]
    }
   ],
   "source": [
    "def remove_punctuation(text):\n",
    "    return \"\".join(char for char in text if not char in string.punctuation)\n",
    "preprocessed_stopwords= [remove_punctuation(word) for word in stopwords.words('english')]\n",
    "\n",
    "def preprocessing(sentence):\n",
    "    # remove whitespace\n",
    "    t1 = sentence.strip()\n",
    "    # lowercase characters\n",
    "    t2 = t1.lower()\n",
    "    # remove numbers\n",
    "    \n",
    "    t3 = ''.join(char for char in t2 if not char.isdigit())\n",
    "    # remove punctuation\n",
    "    t4 = \"\".join(char for char in t3 if not char in string.punctuation)\n",
    "    # tokenize\n",
    "    tokens = t4.split(\" \")\n",
    "    # lemmatize\n",
    "    stopwords_removed = [\n",
    "        word for word in tokens if word not in preprocessed_stopwords\n",
    "    ]\n",
    "    return \" \".join(stopwords_removed)\n",
    "\n",
    "# Clean reviews\n",
    "df_review_top10['clean_text'] = df_review_top10['text'].apply(preprocessing)"
   ]
  },
  {
   "cell_type": "code",
   "execution_count": 32,
   "id": "d2253c3f",
   "metadata": {},
   "outputs": [
    {
     "data": {
      "text/html": [
       "<div>\n",
       "<style scoped>\n",
       "    .dataframe tbody tr th:only-of-type {\n",
       "        vertical-align: middle;\n",
       "    }\n",
       "\n",
       "    .dataframe tbody tr th {\n",
       "        vertical-align: top;\n",
       "    }\n",
       "\n",
       "    .dataframe thead th {\n",
       "        text-align: right;\n",
       "    }\n",
       "</style>\n",
       "<table border=\"1\" class=\"dataframe\">\n",
       "  <thead>\n",
       "    <tr style=\"text-align: right;\">\n",
       "      <th></th>\n",
       "      <th>review_id</th>\n",
       "      <th>business_id</th>\n",
       "      <th>stars</th>\n",
       "      <th>name</th>\n",
       "      <th>text</th>\n",
       "      <th>restaurant_avg_star</th>\n",
       "      <th>review_count</th>\n",
       "      <th>avg_stars10m_radius</th>\n",
       "      <th>clean_text</th>\n",
       "    </tr>\n",
       "  </thead>\n",
       "  <tbody>\n",
       "    <tr>\n",
       "      <th>7987</th>\n",
       "      <td>yyrMqY7sNp5gT7KJ1AaYWA</td>\n",
       "      <td>GBTPC53ZrG1ZBY3DT8Mbcw</td>\n",
       "      <td>4.0</td>\n",
       "      <td>Luke</td>\n",
       "      <td>We have been here twice for brunch and have en...</td>\n",
       "      <td>4.0</td>\n",
       "      <td>4554</td>\n",
       "      <td>4.05814</td>\n",
       "      <td>twice brunch enjoyed immensely everything trie...</td>\n",
       "    </tr>\n",
       "    <tr>\n",
       "      <th>7988</th>\n",
       "      <td>wEfzqOfbwn4Ohe2ZDOLAzw</td>\n",
       "      <td>GBTPC53ZrG1ZBY3DT8Mbcw</td>\n",
       "      <td>4.0</td>\n",
       "      <td>Luke</td>\n",
       "      <td>First meal in New Orleans. I had the $15 lunch...</td>\n",
       "      <td>4.0</td>\n",
       "      <td>4554</td>\n",
       "      <td>4.05814</td>\n",
       "      <td>first meal new orleans  lunch special seafood ...</td>\n",
       "    </tr>\n",
       "  </tbody>\n",
       "</table>\n",
       "</div>"
      ],
      "text/plain": [
       "                   review_id             business_id  stars  name  \\\n",
       "7987  yyrMqY7sNp5gT7KJ1AaYWA  GBTPC53ZrG1ZBY3DT8Mbcw    4.0  Luke   \n",
       "7988  wEfzqOfbwn4Ohe2ZDOLAzw  GBTPC53ZrG1ZBY3DT8Mbcw    4.0  Luke   \n",
       "\n",
       "                                                   text  restaurant_avg_star  \\\n",
       "7987  We have been here twice for brunch and have en...                  4.0   \n",
       "7988  First meal in New Orleans. I had the $15 lunch...                  4.0   \n",
       "\n",
       "      review_count  avg_stars10m_radius  \\\n",
       "7987          4554              4.05814   \n",
       "7988          4554              4.05814   \n",
       "\n",
       "                                             clean_text  \n",
       "7987  twice brunch enjoyed immensely everything trie...  \n",
       "7988  first meal new orleans  lunch special seafood ...  "
      ]
     },
     "execution_count": 32,
     "metadata": {},
     "output_type": "execute_result"
    }
   ],
   "source": [
    "df_review_top10.head(2)"
   ]
  },
  {
   "cell_type": "markdown",
   "id": "1ecbb6e9",
   "metadata": {},
   "source": [
    "# Export dataframes to CSV"
   ]
  },
  {
   "cell_type": "code",
   "execution_count": 33,
   "id": "2e44469e",
   "metadata": {},
   "outputs": [],
   "source": [
    "df_review_top10.to_csv('notebooks/csv/df_review_top10.csv', index=False)"
   ]
  },
  {
   "cell_type": "code",
   "execution_count": 34,
   "id": "952f02ad",
   "metadata": {},
   "outputs": [],
   "source": [
    "df_business_top10.to_csv('notebooks/csv/df_business_top10.csv', index=False)"
   ]
  },
  {
   "cell_type": "markdown",
   "id": "8ea68e9d",
   "metadata": {},
   "source": [
    "# Preprocess - Vectorize"
   ]
  },
  {
   "cell_type": "markdown",
   "id": "87d2d369",
   "metadata": {},
   "source": [
    "This cannot run"
   ]
  },
  {
   "cell_type": "code",
   "execution_count": 1,
   "id": "7f85bb64",
   "metadata": {},
   "outputs": [
    {
     "ename": "NameError",
     "evalue": "name 'TfidfVectorizer' is not defined",
     "output_type": "error",
     "traceback": [
      "\u001b[0;31m---------------------------------------------------------------------------\u001b[0m",
      "\u001b[0;31mNameError\u001b[0m                                 Traceback (most recent call last)",
      "Cell \u001b[0;32mIn [1], line 1\u001b[0m\n\u001b[0;32m----> 1\u001b[0m vectorizer \u001b[38;5;241m=\u001b[39m \u001b[43mTfidfVectorizer\u001b[49m(ngram_range\u001b[38;5;241m=\u001b[39m(\u001b[38;5;241m1\u001b[39m,\u001b[38;5;241m3\u001b[39m))\n\u001b[1;32m      2\u001b[0m vectorized_text \u001b[38;5;241m=\u001b[39m vectorizer\u001b[38;5;241m.\u001b[39mfit_transform(df_review_top10[\u001b[38;5;124m'\u001b[39m\u001b[38;5;124mclean_text\u001b[39m\u001b[38;5;124m'\u001b[39m])\n\u001b[1;32m      3\u001b[0m vectorized_text \u001b[38;5;241m=\u001b[39m pd\u001b[38;5;241m.\u001b[39mDataFrame(\n\u001b[1;32m      4\u001b[0m     vectorized_text\u001b[38;5;241m.\u001b[39mtoarray(),\n\u001b[1;32m      5\u001b[0m     columns \u001b[38;5;241m=\u001b[39m vectorizer\u001b[38;5;241m.\u001b[39mget_feature_names_out()\n\u001b[1;32m      6\u001b[0m )\n",
      "\u001b[0;31mNameError\u001b[0m: name 'TfidfVectorizer' is not defined"
     ]
    }
   ],
   "source": [
    "vectorizer = TfidfVectorizer(ngram_range=(1,3))\n",
    "vectorized_text = vectorizer.fit_transform(df_review_top10['clean_text'])\n",
    "vectorized_text = pd.DataFrame(\n",
    "    vectorized_text.toarray(),\n",
    "    columns = vectorizer.get_feature_names_out()\n",
    ")"
   ]
  },
  {
   "cell_type": "code",
   "execution_count": null,
   "id": "882c9ef2",
   "metadata": {},
   "outputs": [],
   "source": []
  },
  {
   "cell_type": "code",
   "execution_count": null,
   "id": "6caee12e",
   "metadata": {},
   "outputs": [],
   "source": []
  },
  {
   "cell_type": "code",
   "execution_count": null,
   "id": "03b6bedb",
   "metadata": {},
   "outputs": [],
   "source": []
  }
 ],
 "metadata": {
  "kernelspec": {
   "display_name": "Python 3 (ipykernel)",
   "language": "python",
   "name": "python3"
  },
  "language_info": {
   "codemirror_mode": {
    "name": "ipython",
    "version": 3
   },
   "file_extension": ".py",
   "mimetype": "text/x-python",
   "name": "python",
   "nbconvert_exporter": "python",
   "pygments_lexer": "ipython3",
   "version": "3.10.6"
  },
  "toc": {
   "base_numbering": 1,
   "nav_menu": {},
   "number_sections": true,
   "sideBar": true,
   "skip_h1_title": false,
   "title_cell": "Table of Contents",
   "title_sidebar": "Contents",
   "toc_cell": false,
   "toc_position": {},
   "toc_section_display": true,
   "toc_window_display": false
  }
 },
 "nbformat": 4,
 "nbformat_minor": 5
}
