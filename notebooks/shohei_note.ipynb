{
 "cells": [
  {
   "cell_type": "code",
   "execution_count": 1,
   "id": "3b7ff233",
   "metadata": {},
   "outputs": [],
   "source": [
    "import openai\n",
    "import pandas as pd\n",
    "import string\n",
    "from sklearn.feature_extraction.text import TfidfVectorizer\n",
    "import streamlit as st\n",
    "import os\n",
    "from dotenv import load_dotenv\n",
    "from wordcloud import WordCloud\n",
    "import matplotlib.pyplot as plt"
   ]
  },
  {
   "cell_type": "code",
   "execution_count": 2,
   "id": "3553a823",
   "metadata": {},
   "outputs": [],
   "source": [
    "df_wordcloud = pd.read_csv('csv/df_wordcloud_top10.csv')"
   ]
  },
  {
   "cell_type": "code",
   "execution_count": 5,
   "id": "5caefd2d",
   "metadata": {},
   "outputs": [
    {
     "data": {
      "text/html": [
       "<div>\n",
       "<style scoped>\n",
       "    .dataframe tbody tr th:only-of-type {\n",
       "        vertical-align: middle;\n",
       "    }\n",
       "\n",
       "    .dataframe tbody tr th {\n",
       "        vertical-align: top;\n",
       "    }\n",
       "\n",
       "    .dataframe thead th {\n",
       "        text-align: right;\n",
       "    }\n",
       "</style>\n",
       "<table border=\"1\" class=\"dataframe\">\n",
       "  <thead>\n",
       "    <tr style=\"text-align: right;\">\n",
       "      <th></th>\n",
       "      <th>id</th>\n",
       "      <th>business_id</th>\n",
       "      <th>name</th>\n",
       "      <th>own_wc_dict</th>\n",
       "      <th>other_wc_dict</th>\n",
       "    </tr>\n",
       "  </thead>\n",
       "  <tbody>\n",
       "    <tr>\n",
       "      <th>0</th>\n",
       "      <td>1</td>\n",
       "      <td>GBTPC53ZrG1ZBY3DT8Mbcw</td>\n",
       "      <td>Luke</td>\n",
       "      <td>{'bread pudding': 3200.6332547374927, 'po boy'...</td>\n",
       "      <td>{'bread pudding': 3200.6332547374927, 'po boy'...</td>\n",
       "    </tr>\n",
       "    <tr>\n",
       "      <th>1</th>\n",
       "      <td>2</td>\n",
       "      <td>VQcCL9PiNL_wkGf-uF3fjg</td>\n",
       "      <td>Royal House</td>\n",
       "      <td>{'bread pudding': 3200.6332547374927, 'po boy'...</td>\n",
       "      <td>{'bread pudding': 3200.6332547374927, 'po boy'...</td>\n",
       "    </tr>\n",
       "  </tbody>\n",
       "</table>\n",
       "</div>"
      ],
      "text/plain": [
       "   id             business_id         name  \\\n",
       "0   1  GBTPC53ZrG1ZBY3DT8Mbcw         Luke   \n",
       "1   2  VQcCL9PiNL_wkGf-uF3fjg  Royal House   \n",
       "\n",
       "                                         own_wc_dict  \\\n",
       "0  {'bread pudding': 3200.6332547374927, 'po boy'...   \n",
       "1  {'bread pudding': 3200.6332547374927, 'po boy'...   \n",
       "\n",
       "                                       other_wc_dict  \n",
       "0  {'bread pudding': 3200.6332547374927, 'po boy'...  \n",
       "1  {'bread pudding': 3200.6332547374927, 'po boy'...  "
      ]
     },
     "execution_count": 5,
     "metadata": {},
     "output_type": "execute_result"
    }
   ],
   "source": [
    "df_wordcloud.head(2)"
   ]
  },
  {
   "cell_type": "code",
   "execution_count": 7,
   "id": "da09938f",
   "metadata": {},
   "outputs": [],
   "source": [
    "df_wordcloud_filtered = df_wordcloud[df_wordcloud['name'].str.contains(\"Luke\", case=False, na=False)]"
   ]
  },
  {
   "cell_type": "code",
   "execution_count": 8,
   "id": "62ab5ffa",
   "metadata": {},
   "outputs": [
    {
     "data": {
      "text/html": [
       "<div>\n",
       "<style scoped>\n",
       "    .dataframe tbody tr th:only-of-type {\n",
       "        vertical-align: middle;\n",
       "    }\n",
       "\n",
       "    .dataframe tbody tr th {\n",
       "        vertical-align: top;\n",
       "    }\n",
       "\n",
       "    .dataframe thead th {\n",
       "        text-align: right;\n",
       "    }\n",
       "</style>\n",
       "<table border=\"1\" class=\"dataframe\">\n",
       "  <thead>\n",
       "    <tr style=\"text-align: right;\">\n",
       "      <th></th>\n",
       "      <th>id</th>\n",
       "      <th>business_id</th>\n",
       "      <th>name</th>\n",
       "      <th>own_wc_dict</th>\n",
       "      <th>other_wc_dict</th>\n",
       "    </tr>\n",
       "  </thead>\n",
       "  <tbody>\n",
       "    <tr>\n",
       "      <th>0</th>\n",
       "      <td>1</td>\n",
       "      <td>GBTPC53ZrG1ZBY3DT8Mbcw</td>\n",
       "      <td>Luke</td>\n",
       "      <td>{'bread pudding': 3200.6332547374927, 'po boy'...</td>\n",
       "      <td>{'bread pudding': 3200.6332547374927, 'po boy'...</td>\n",
       "    </tr>\n",
       "  </tbody>\n",
       "</table>\n",
       "</div>"
      ],
      "text/plain": [
       "   id             business_id  name  \\\n",
       "0   1  GBTPC53ZrG1ZBY3DT8Mbcw  Luke   \n",
       "\n",
       "                                         own_wc_dict  \\\n",
       "0  {'bread pudding': 3200.6332547374927, 'po boy'...   \n",
       "\n",
       "                                       other_wc_dict  \n",
       "0  {'bread pudding': 3200.6332547374927, 'po boy'...  "
      ]
     },
     "execution_count": 8,
     "metadata": {},
     "output_type": "execute_result"
    }
   ],
   "source": [
    "df_wordcloud_filtered.head(2)"
   ]
  },
  {
   "cell_type": "code",
   "execution_count": 16,
   "id": "028f74f6",
   "metadata": {},
   "outputs": [
    {
     "data": {
      "text/plain": [
       "\"{'bread pudding': 3200.6332547374927, 'po boy': 2961.708800801161, 'chargrilled oysters': 2547.101267469961, 'shrimp grits': 2545.6761471874543, 'food good': 2394.851202731725, 'french quarter': 2375.1604485319913, 'great food': 2342.2158226444208, 'go back': 2269.1146778740294, 'highly recommend': 2192.8009372692204, 'come back': 2071.4412719356014, 'great service': 2053.7017438890994, 'really good': 1992.8839545499548, 'service great': 1918.4323052200757, 'first time': 1878.2962490378627, 'food great': 1862.4111624802088, 'happy hour': 1831.7378804183993, 'bbq shrimp': 1752.4493363812376, 'good food': 1694.0858559953053, 'fried chicken': 1656.6911834674356, 'food service': 1649.1235662118945, 'red beans': 1636.2118251397242, 'one best': 1615.4462452345304, 'turtle soup': 1599.0159349716628, 'bloody mary': 1592.1428258495323, 'raw oysters': 1572.2767666255056, 'beans rice': 1509.7080585760934, 'pretty good': 1489.4205636434901, 'next time': 1470.6948972914654, 'bourbon street': 1408.748693211042, 'crab cakes': 1397.0712130041593, 'red beans rice': 1377.2192949266687, 'grilled oysters': 1375.1323412511558, 'charbroiled oysters': 1362.8895053672857, 'seafood gumbo': 1350.1060687612373, 'service good': 1298.2355951403902, 'great place': 1227.204995297057, 'food delicious': 1225.0340595911493, 'food amazing': 1224.2158446990438, 'dining experience': 1210.2296982495375, 'would recommend': 1178.471603157969, 'good service': 1176.5847107777831, 'would definitely': 1126.2979806395758, 'red fish': 1100.6396284359619, 'service food': 1031.7058024651965, 'ice cream': 998.2215370683521, 'best ever': 997.9467268293353, 'fried oysters': 953.8667577735848, 'po boys': 947.0706525749906, 'service excellent': 934.1415983951209, 'amazing food': 932.5502529499742, 'recommend place': 922.7766174095048, 'fried shrimp': 912.2291297929837, 'worth wait': 903.6787411459333, 'staff friendly': 898.6167245820537, 'definitely recommend': 898.3974961755533, 'fried alligator': 897.9549972928335, 'sat bar': 895.4178936180053, 'shrimp po': 890.0622826451437, 'customer service': 881.7983927746747, 'crab claws': 875.5000976773123, 'crab cake': 863.4764768792433, 'top notch': 853.0324084526029, 'must try': 842.5384333646898, 'every time': 841.8379146701773, 'much better': 841.7924160191133, 'shrimp po boy': 831.8695101042983, 'bananas foster': 830.6703438594653, 'seafood platter': 826.1932587004433, 'mac cheese': 824.1882639449356, 'excellent service': 813.0475632929848, 'great experience': 807.4913272701101, 'pork chop': 791.9026858918521, 'really enjoyed': 781.9188101467254, 'last night': 756.5191569604842, 'commander palace': 740.3405506171425, 'char grilled': 737.4665158876531, 'came back': 733.3348348054619, 'great atmosphere': 731.3376240330638, 'shrimp creole': 722.5830269351387, 'highly recommended': 716.5277802193585, 'felt like': 713.3585239077757, 'food excellent': 710.7875499376071, 'oysters good': 708.4484217371576, 'also ordered': 692.6473766541337, 'dining room': 692.5810082162399, 'would go': 691.2030293724969, 'delicious food': 688.0525938050979, 'coming back': 685.3656099238849, 'tourist trap': 678.6307131992529, 'well worth': 675.3053169788524, 'definitely back': 671.1537742436966, 'right away': 669.2670711688863, 'feel like': 662.6429059842915, 'best meal': 655.3742483993634, 'fried green': 648.412139115935, 'nothing special': 639.185832371604, 'long time': 627.5024566627769, 'taste new': 625.930053216129, 'crawfish etouffee': 624.0004335995247, 'taste new orleans': 621.496891508783, 'char grilled oysters': 582.4493646099029, 'soft shell': 581.7578822705341, 'green tomatoes': 567.566639895593, 'ordered shrimp': 545.9370353299572, 'fried green tomatoes': 534.1754098013578, 'definitely come': 530.17912921359, 'trip new': 506.63684978275404, 'shell crab': 506.47399875251415, 'trip new orleans': 504.22207983849137, 'soft shell crab': 491.9398497717165}\""
      ]
     },
     "execution_count": 16,
     "metadata": {},
     "output_type": "execute_result"
    }
   ],
   "source": [
    "df_wordcloud_filtered[\"own_wc_dict\"][0]"
   ]
  },
  {
   "cell_type": "code",
   "execution_count": null,
   "id": "4c048c88",
   "metadata": {},
   "outputs": [],
   "source": []
  }
 ],
 "metadata": {
  "kernelspec": {
   "display_name": "Python 3 (ipykernel)",
   "language": "python",
   "name": "python3"
  },
  "language_info": {
   "codemirror_mode": {
    "name": "ipython",
    "version": 3
   },
   "file_extension": ".py",
   "mimetype": "text/x-python",
   "name": "python",
   "nbconvert_exporter": "python",
   "pygments_lexer": "ipython3",
   "version": "3.10.6"
  },
  "toc": {
   "base_numbering": 1,
   "nav_menu": {},
   "number_sections": true,
   "sideBar": true,
   "skip_h1_title": false,
   "title_cell": "Table of Contents",
   "title_sidebar": "Contents",
   "toc_cell": false,
   "toc_position": {},
   "toc_section_display": true,
   "toc_window_display": false
  }
 },
 "nbformat": 4,
 "nbformat_minor": 5
}
